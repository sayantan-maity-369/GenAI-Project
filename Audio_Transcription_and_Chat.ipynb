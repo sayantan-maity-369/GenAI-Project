{
  "cells": [
    {
      "cell_type": "code",
      "execution_count": null,
      "metadata": {
        "colab": {
          "base_uri": "https://localhost:8080/"
        },
        "id": "RYGRtgGWPxpc",
        "outputId": "e678d7e5-1a5d-4c5c-d2b8-7fcf573d26f7"
      },
      "outputs": [
        {
          "output_type": "stream",
          "name": "stdout",
          "text": [
            "Requirement already satisfied: langchain in /usr/local/lib/python3.10/dist-packages (0.1.16)\n",
            "Requirement already satisfied: PyYAML>=5.3 in /usr/local/lib/python3.10/dist-packages (from langchain) (6.0.1)\n",
            "Requirement already satisfied: SQLAlchemy<3,>=1.4 in /usr/local/lib/python3.10/dist-packages (from langchain) (2.0.29)\n",
            "Requirement already satisfied: aiohttp<4.0.0,>=3.8.3 in /usr/local/lib/python3.10/dist-packages (from langchain) (3.9.3)\n",
            "Requirement already satisfied: async-timeout<5.0.0,>=4.0.0 in /usr/local/lib/python3.10/dist-packages (from langchain) (4.0.3)\n",
            "Requirement already satisfied: dataclasses-json<0.7,>=0.5.7 in /usr/local/lib/python3.10/dist-packages (from langchain) (0.6.4)\n",
            "Requirement already satisfied: jsonpatch<2.0,>=1.33 in /usr/local/lib/python3.10/dist-packages (from langchain) (1.33)\n",
            "Requirement already satisfied: langchain-community<0.1,>=0.0.32 in /usr/local/lib/python3.10/dist-packages (from langchain) (0.0.33)\n",
            "Requirement already satisfied: langchain-core<0.2.0,>=0.1.42 in /usr/local/lib/python3.10/dist-packages (from langchain) (0.1.43)\n",
            "Requirement already satisfied: langchain-text-splitters<0.1,>=0.0.1 in /usr/local/lib/python3.10/dist-packages (from langchain) (0.0.1)\n",
            "Requirement already satisfied: langsmith<0.2.0,>=0.1.17 in /usr/local/lib/python3.10/dist-packages (from langchain) (0.1.48)\n",
            "Requirement already satisfied: numpy<2,>=1 in /usr/local/lib/python3.10/dist-packages (from langchain) (1.25.2)\n",
            "Requirement already satisfied: pydantic<3,>=1 in /usr/local/lib/python3.10/dist-packages (from langchain) (2.6.4)\n",
            "Requirement already satisfied: requests<3,>=2 in /usr/local/lib/python3.10/dist-packages (from langchain) (2.31.0)\n",
            "Requirement already satisfied: tenacity<9.0.0,>=8.1.0 in /usr/local/lib/python3.10/dist-packages (from langchain) (8.2.3)\n",
            "Requirement already satisfied: aiosignal>=1.1.2 in /usr/local/lib/python3.10/dist-packages (from aiohttp<4.0.0,>=3.8.3->langchain) (1.3.1)\n",
            "Requirement already satisfied: attrs>=17.3.0 in /usr/local/lib/python3.10/dist-packages (from aiohttp<4.0.0,>=3.8.3->langchain) (23.2.0)\n",
            "Requirement already satisfied: frozenlist>=1.1.1 in /usr/local/lib/python3.10/dist-packages (from aiohttp<4.0.0,>=3.8.3->langchain) (1.4.1)\n",
            "Requirement already satisfied: multidict<7.0,>=4.5 in /usr/local/lib/python3.10/dist-packages (from aiohttp<4.0.0,>=3.8.3->langchain) (6.0.5)\n",
            "Requirement already satisfied: yarl<2.0,>=1.0 in /usr/local/lib/python3.10/dist-packages (from aiohttp<4.0.0,>=3.8.3->langchain) (1.9.4)\n",
            "Requirement already satisfied: marshmallow<4.0.0,>=3.18.0 in /usr/local/lib/python3.10/dist-packages (from dataclasses-json<0.7,>=0.5.7->langchain) (3.21.1)\n",
            "Requirement already satisfied: typing-inspect<1,>=0.4.0 in /usr/local/lib/python3.10/dist-packages (from dataclasses-json<0.7,>=0.5.7->langchain) (0.9.0)\n",
            "Requirement already satisfied: jsonpointer>=1.9 in /usr/local/lib/python3.10/dist-packages (from jsonpatch<2.0,>=1.33->langchain) (2.4)\n",
            "Requirement already satisfied: packaging<24.0,>=23.2 in /usr/local/lib/python3.10/dist-packages (from langchain-core<0.2.0,>=0.1.42->langchain) (23.2)\n",
            "Requirement already satisfied: orjson<4.0.0,>=3.9.14 in /usr/local/lib/python3.10/dist-packages (from langsmith<0.2.0,>=0.1.17->langchain) (3.10.1)\n",
            "Requirement already satisfied: annotated-types>=0.4.0 in /usr/local/lib/python3.10/dist-packages (from pydantic<3,>=1->langchain) (0.6.0)\n",
            "Requirement already satisfied: pydantic-core==2.16.3 in /usr/local/lib/python3.10/dist-packages (from pydantic<3,>=1->langchain) (2.16.3)\n",
            "Requirement already satisfied: typing-extensions>=4.6.1 in /usr/local/lib/python3.10/dist-packages (from pydantic<3,>=1->langchain) (4.11.0)\n",
            "Requirement already satisfied: charset-normalizer<4,>=2 in /usr/local/lib/python3.10/dist-packages (from requests<3,>=2->langchain) (3.3.2)\n",
            "Requirement already satisfied: idna<4,>=2.5 in /usr/local/lib/python3.10/dist-packages (from requests<3,>=2->langchain) (3.6)\n",
            "Requirement already satisfied: urllib3<3,>=1.21.1 in /usr/local/lib/python3.10/dist-packages (from requests<3,>=2->langchain) (2.0.7)\n",
            "Requirement already satisfied: certifi>=2017.4.17 in /usr/local/lib/python3.10/dist-packages (from requests<3,>=2->langchain) (2024.2.2)\n",
            "Requirement already satisfied: greenlet!=0.4.17 in /usr/local/lib/python3.10/dist-packages (from SQLAlchemy<3,>=1.4->langchain) (3.0.3)\n",
            "Requirement already satisfied: mypy-extensions>=0.3.0 in /usr/local/lib/python3.10/dist-packages (from typing-inspect<1,>=0.4.0->dataclasses-json<0.7,>=0.5.7->langchain) (1.0.0)\n",
            "Requirement already satisfied: pytube in /usr/local/lib/python3.10/dist-packages (15.0.0)\n",
            "Requirement already satisfied: sentence_transformers in /usr/local/lib/python3.10/dist-packages (2.6.1)\n",
            "Requirement already satisfied: transformers<5.0.0,>=4.32.0 in /usr/local/lib/python3.10/dist-packages (from sentence_transformers) (4.38.2)\n",
            "Requirement already satisfied: tqdm in /usr/local/lib/python3.10/dist-packages (from sentence_transformers) (4.66.2)\n",
            "Requirement already satisfied: torch>=1.11.0 in /usr/local/lib/python3.10/dist-packages (from sentence_transformers) (2.2.2)\n",
            "Requirement already satisfied: numpy in /usr/local/lib/python3.10/dist-packages (from sentence_transformers) (1.25.2)\n",
            "Requirement already satisfied: scikit-learn in /usr/local/lib/python3.10/dist-packages (from sentence_transformers) (1.2.2)\n",
            "Requirement already satisfied: scipy in /usr/local/lib/python3.10/dist-packages (from sentence_transformers) (1.11.4)\n",
            "Requirement already satisfied: huggingface-hub>=0.15.1 in /usr/local/lib/python3.10/dist-packages (from sentence_transformers) (0.20.3)\n",
            "Requirement already satisfied: Pillow in /usr/local/lib/python3.10/dist-packages (from sentence_transformers) (9.4.0)\n",
            "Requirement already satisfied: filelock in /usr/local/lib/python3.10/dist-packages (from huggingface-hub>=0.15.1->sentence_transformers) (3.13.4)\n",
            "Requirement already satisfied: fsspec>=2023.5.0 in /usr/local/lib/python3.10/dist-packages (from huggingface-hub>=0.15.1->sentence_transformers) (2023.6.0)\n",
            "Requirement already satisfied: requests in /usr/local/lib/python3.10/dist-packages (from huggingface-hub>=0.15.1->sentence_transformers) (2.31.0)\n",
            "Requirement already satisfied: pyyaml>=5.1 in /usr/local/lib/python3.10/dist-packages (from huggingface-hub>=0.15.1->sentence_transformers) (6.0.1)\n",
            "Requirement already satisfied: typing-extensions>=3.7.4.3 in /usr/local/lib/python3.10/dist-packages (from huggingface-hub>=0.15.1->sentence_transformers) (4.11.0)\n",
            "Requirement already satisfied: packaging>=20.9 in /usr/local/lib/python3.10/dist-packages (from huggingface-hub>=0.15.1->sentence_transformers) (23.2)\n",
            "Requirement already satisfied: sympy in /usr/local/lib/python3.10/dist-packages (from torch>=1.11.0->sentence_transformers) (1.12)\n",
            "Requirement already satisfied: networkx in /usr/local/lib/python3.10/dist-packages (from torch>=1.11.0->sentence_transformers) (3.3)\n",
            "Requirement already satisfied: jinja2 in /usr/local/lib/python3.10/dist-packages (from torch>=1.11.0->sentence_transformers) (3.1.3)\n",
            "Requirement already satisfied: nvidia-cuda-nvrtc-cu12==12.1.105 in /usr/local/lib/python3.10/dist-packages (from torch>=1.11.0->sentence_transformers) (12.1.105)\n",
            "Requirement already satisfied: nvidia-cuda-runtime-cu12==12.1.105 in /usr/local/lib/python3.10/dist-packages (from torch>=1.11.0->sentence_transformers) (12.1.105)\n",
            "Requirement already satisfied: nvidia-cuda-cupti-cu12==12.1.105 in /usr/local/lib/python3.10/dist-packages (from torch>=1.11.0->sentence_transformers) (12.1.105)\n",
            "Requirement already satisfied: nvidia-cudnn-cu12==8.9.2.26 in /usr/local/lib/python3.10/dist-packages (from torch>=1.11.0->sentence_transformers) (8.9.2.26)\n",
            "Requirement already satisfied: nvidia-cublas-cu12==12.1.3.1 in /usr/local/lib/python3.10/dist-packages (from torch>=1.11.0->sentence_transformers) (12.1.3.1)\n",
            "Requirement already satisfied: nvidia-cufft-cu12==11.0.2.54 in /usr/local/lib/python3.10/dist-packages (from torch>=1.11.0->sentence_transformers) (11.0.2.54)\n",
            "Requirement already satisfied: nvidia-curand-cu12==10.3.2.106 in /usr/local/lib/python3.10/dist-packages (from torch>=1.11.0->sentence_transformers) (10.3.2.106)\n",
            "Requirement already satisfied: nvidia-cusolver-cu12==11.4.5.107 in /usr/local/lib/python3.10/dist-packages (from torch>=1.11.0->sentence_transformers) (11.4.5.107)\n",
            "Requirement already satisfied: nvidia-cusparse-cu12==12.1.0.106 in /usr/local/lib/python3.10/dist-packages (from torch>=1.11.0->sentence_transformers) (12.1.0.106)\n",
            "Requirement already satisfied: nvidia-nccl-cu12==2.19.3 in /usr/local/lib/python3.10/dist-packages (from torch>=1.11.0->sentence_transformers) (2.19.3)\n",
            "Requirement already satisfied: nvidia-nvtx-cu12==12.1.105 in /usr/local/lib/python3.10/dist-packages (from torch>=1.11.0->sentence_transformers) (12.1.105)\n",
            "Requirement already satisfied: triton==2.2.0 in /usr/local/lib/python3.10/dist-packages (from torch>=1.11.0->sentence_transformers) (2.2.0)\n",
            "Requirement already satisfied: nvidia-nvjitlink-cu12 in /usr/local/lib/python3.10/dist-packages (from nvidia-cusolver-cu12==11.4.5.107->torch>=1.11.0->sentence_transformers) (12.4.127)\n",
            "Requirement already satisfied: regex!=2019.12.17 in /usr/local/lib/python3.10/dist-packages (from transformers<5.0.0,>=4.32.0->sentence_transformers) (2023.12.25)\n",
            "Requirement already satisfied: tokenizers<0.19,>=0.14 in /usr/local/lib/python3.10/dist-packages (from transformers<5.0.0,>=4.32.0->sentence_transformers) (0.15.2)\n",
            "Requirement already satisfied: safetensors>=0.4.1 in /usr/local/lib/python3.10/dist-packages (from transformers<5.0.0,>=4.32.0->sentence_transformers) (0.4.2)\n",
            "Requirement already satisfied: joblib>=1.1.1 in /usr/local/lib/python3.10/dist-packages (from scikit-learn->sentence_transformers) (1.4.0)\n",
            "Requirement already satisfied: threadpoolctl>=2.0.0 in /usr/local/lib/python3.10/dist-packages (from scikit-learn->sentence_transformers) (3.4.0)\n",
            "Requirement already satisfied: MarkupSafe>=2.0 in /usr/local/lib/python3.10/dist-packages (from jinja2->torch>=1.11.0->sentence_transformers) (2.1.5)\n",
            "Requirement already satisfied: charset-normalizer<4,>=2 in /usr/local/lib/python3.10/dist-packages (from requests->huggingface-hub>=0.15.1->sentence_transformers) (3.3.2)\n",
            "Requirement already satisfied: idna<4,>=2.5 in /usr/local/lib/python3.10/dist-packages (from requests->huggingface-hub>=0.15.1->sentence_transformers) (3.6)\n",
            "Requirement already satisfied: urllib3<3,>=1.21.1 in /usr/local/lib/python3.10/dist-packages (from requests->huggingface-hub>=0.15.1->sentence_transformers) (2.0.7)\n",
            "Requirement already satisfied: certifi>=2017.4.17 in /usr/local/lib/python3.10/dist-packages (from requests->huggingface-hub>=0.15.1->sentence_transformers) (2024.2.2)\n",
            "Requirement already satisfied: mpmath>=0.19 in /usr/local/lib/python3.10/dist-packages (from sympy->torch>=1.11.0->sentence_transformers) (1.3.0)\n",
            "Requirement already satisfied: xformers in /usr/local/lib/python3.10/dist-packages (0.0.25.post1)\n",
            "Requirement already satisfied: numpy in /usr/local/lib/python3.10/dist-packages (from xformers) (1.25.2)\n",
            "Requirement already satisfied: torch==2.2.2 in /usr/local/lib/python3.10/dist-packages (from xformers) (2.2.2)\n",
            "Requirement already satisfied: filelock in /usr/local/lib/python3.10/dist-packages (from torch==2.2.2->xformers) (3.13.4)\n",
            "Requirement already satisfied: typing-extensions>=4.8.0 in /usr/local/lib/python3.10/dist-packages (from torch==2.2.2->xformers) (4.11.0)\n",
            "Requirement already satisfied: sympy in /usr/local/lib/python3.10/dist-packages (from torch==2.2.2->xformers) (1.12)\n",
            "Requirement already satisfied: networkx in /usr/local/lib/python3.10/dist-packages (from torch==2.2.2->xformers) (3.3)\n",
            "Requirement already satisfied: jinja2 in /usr/local/lib/python3.10/dist-packages (from torch==2.2.2->xformers) (3.1.3)\n",
            "Requirement already satisfied: fsspec in /usr/local/lib/python3.10/dist-packages (from torch==2.2.2->xformers) (2023.6.0)\n",
            "Requirement already satisfied: nvidia-cuda-nvrtc-cu12==12.1.105 in /usr/local/lib/python3.10/dist-packages (from torch==2.2.2->xformers) (12.1.105)\n",
            "Requirement already satisfied: nvidia-cuda-runtime-cu12==12.1.105 in /usr/local/lib/python3.10/dist-packages (from torch==2.2.2->xformers) (12.1.105)\n",
            "Requirement already satisfied: nvidia-cuda-cupti-cu12==12.1.105 in /usr/local/lib/python3.10/dist-packages (from torch==2.2.2->xformers) (12.1.105)\n",
            "Requirement already satisfied: nvidia-cudnn-cu12==8.9.2.26 in /usr/local/lib/python3.10/dist-packages (from torch==2.2.2->xformers) (8.9.2.26)\n",
            "Requirement already satisfied: nvidia-cublas-cu12==12.1.3.1 in /usr/local/lib/python3.10/dist-packages (from torch==2.2.2->xformers) (12.1.3.1)\n",
            "Requirement already satisfied: nvidia-cufft-cu12==11.0.2.54 in /usr/local/lib/python3.10/dist-packages (from torch==2.2.2->xformers) (11.0.2.54)\n",
            "Requirement already satisfied: nvidia-curand-cu12==10.3.2.106 in /usr/local/lib/python3.10/dist-packages (from torch==2.2.2->xformers) (10.3.2.106)\n",
            "Requirement already satisfied: nvidia-cusolver-cu12==11.4.5.107 in /usr/local/lib/python3.10/dist-packages (from torch==2.2.2->xformers) (11.4.5.107)\n",
            "Requirement already satisfied: nvidia-cusparse-cu12==12.1.0.106 in /usr/local/lib/python3.10/dist-packages (from torch==2.2.2->xformers) (12.1.0.106)\n",
            "Requirement already satisfied: nvidia-nccl-cu12==2.19.3 in /usr/local/lib/python3.10/dist-packages (from torch==2.2.2->xformers) (2.19.3)\n",
            "Requirement already satisfied: nvidia-nvtx-cu12==12.1.105 in /usr/local/lib/python3.10/dist-packages (from torch==2.2.2->xformers) (12.1.105)\n",
            "Requirement already satisfied: triton==2.2.0 in /usr/local/lib/python3.10/dist-packages (from torch==2.2.2->xformers) (2.2.0)\n",
            "Requirement already satisfied: nvidia-nvjitlink-cu12 in /usr/local/lib/python3.10/dist-packages (from nvidia-cusolver-cu12==11.4.5.107->torch==2.2.2->xformers) (12.4.127)\n",
            "Requirement already satisfied: MarkupSafe>=2.0 in /usr/local/lib/python3.10/dist-packages (from jinja2->torch==2.2.2->xformers) (2.1.5)\n",
            "Requirement already satisfied: mpmath>=0.19 in /usr/local/lib/python3.10/dist-packages (from sympy->torch==2.2.2->xformers) (1.3.0)\n",
            "Requirement already satisfied: bitsandbytes in /usr/local/lib/python3.10/dist-packages (0.43.1)\n",
            "Requirement already satisfied: accelerate in /usr/local/lib/python3.10/dist-packages (0.29.2)\n",
            "Requirement already satisfied: transformers in /usr/local/lib/python3.10/dist-packages (4.38.2)\n",
            "Requirement already satisfied: torch in /usr/local/lib/python3.10/dist-packages (from bitsandbytes) (2.2.2)\n",
            "Requirement already satisfied: numpy in /usr/local/lib/python3.10/dist-packages (from bitsandbytes) (1.25.2)\n",
            "Requirement already satisfied: packaging>=20.0 in /usr/local/lib/python3.10/dist-packages (from accelerate) (23.2)\n",
            "Requirement already satisfied: psutil in /usr/local/lib/python3.10/dist-packages (from accelerate) (5.9.5)\n",
            "Requirement already satisfied: pyyaml in /usr/local/lib/python3.10/dist-packages (from accelerate) (6.0.1)\n",
            "Requirement already satisfied: huggingface-hub in /usr/local/lib/python3.10/dist-packages (from accelerate) (0.20.3)\n",
            "Requirement already satisfied: safetensors>=0.3.1 in /usr/local/lib/python3.10/dist-packages (from accelerate) (0.4.2)\n",
            "Requirement already satisfied: filelock in /usr/local/lib/python3.10/dist-packages (from transformers) (3.13.4)\n",
            "Requirement already satisfied: regex!=2019.12.17 in /usr/local/lib/python3.10/dist-packages (from transformers) (2023.12.25)\n",
            "Requirement already satisfied: requests in /usr/local/lib/python3.10/dist-packages (from transformers) (2.31.0)\n",
            "Requirement already satisfied: tokenizers<0.19,>=0.14 in /usr/local/lib/python3.10/dist-packages (from transformers) (0.15.2)\n",
            "Requirement already satisfied: tqdm>=4.27 in /usr/local/lib/python3.10/dist-packages (from transformers) (4.66.2)\n",
            "Requirement already satisfied: fsspec>=2023.5.0 in /usr/local/lib/python3.10/dist-packages (from huggingface-hub->accelerate) (2023.6.0)\n",
            "Requirement already satisfied: typing-extensions>=3.7.4.3 in /usr/local/lib/python3.10/dist-packages (from huggingface-hub->accelerate) (4.11.0)\n",
            "Requirement already satisfied: sympy in /usr/local/lib/python3.10/dist-packages (from torch->bitsandbytes) (1.12)\n",
            "Requirement already satisfied: networkx in /usr/local/lib/python3.10/dist-packages (from torch->bitsandbytes) (3.3)\n",
            "Requirement already satisfied: jinja2 in /usr/local/lib/python3.10/dist-packages (from torch->bitsandbytes) (3.1.3)\n",
            "Requirement already satisfied: nvidia-cuda-nvrtc-cu12==12.1.105 in /usr/local/lib/python3.10/dist-packages (from torch->bitsandbytes) (12.1.105)\n",
            "Requirement already satisfied: nvidia-cuda-runtime-cu12==12.1.105 in /usr/local/lib/python3.10/dist-packages (from torch->bitsandbytes) (12.1.105)\n",
            "Requirement already satisfied: nvidia-cuda-cupti-cu12==12.1.105 in /usr/local/lib/python3.10/dist-packages (from torch->bitsandbytes) (12.1.105)\n",
            "Requirement already satisfied: nvidia-cudnn-cu12==8.9.2.26 in /usr/local/lib/python3.10/dist-packages (from torch->bitsandbytes) (8.9.2.26)\n",
            "Requirement already satisfied: nvidia-cublas-cu12==12.1.3.1 in /usr/local/lib/python3.10/dist-packages (from torch->bitsandbytes) (12.1.3.1)\n",
            "Requirement already satisfied: nvidia-cufft-cu12==11.0.2.54 in /usr/local/lib/python3.10/dist-packages (from torch->bitsandbytes) (11.0.2.54)\n",
            "Requirement already satisfied: nvidia-curand-cu12==10.3.2.106 in /usr/local/lib/python3.10/dist-packages (from torch->bitsandbytes) (10.3.2.106)\n",
            "Requirement already satisfied: nvidia-cusolver-cu12==11.4.5.107 in /usr/local/lib/python3.10/dist-packages (from torch->bitsandbytes) (11.4.5.107)\n",
            "Requirement already satisfied: nvidia-cusparse-cu12==12.1.0.106 in /usr/local/lib/python3.10/dist-packages (from torch->bitsandbytes) (12.1.0.106)\n",
            "Requirement already satisfied: nvidia-nccl-cu12==2.19.3 in /usr/local/lib/python3.10/dist-packages (from torch->bitsandbytes) (2.19.3)\n",
            "Requirement already satisfied: nvidia-nvtx-cu12==12.1.105 in /usr/local/lib/python3.10/dist-packages (from torch->bitsandbytes) (12.1.105)\n",
            "Requirement already satisfied: triton==2.2.0 in /usr/local/lib/python3.10/dist-packages (from torch->bitsandbytes) (2.2.0)\n",
            "Requirement already satisfied: nvidia-nvjitlink-cu12 in /usr/local/lib/python3.10/dist-packages (from nvidia-cusolver-cu12==11.4.5.107->torch->bitsandbytes) (12.4.127)\n",
            "Requirement already satisfied: charset-normalizer<4,>=2 in /usr/local/lib/python3.10/dist-packages (from requests->transformers) (3.3.2)\n",
            "Requirement already satisfied: idna<4,>=2.5 in /usr/local/lib/python3.10/dist-packages (from requests->transformers) (3.6)\n",
            "Requirement already satisfied: urllib3<3,>=1.21.1 in /usr/local/lib/python3.10/dist-packages (from requests->transformers) (2.0.7)\n",
            "Requirement already satisfied: certifi>=2017.4.17 in /usr/local/lib/python3.10/dist-packages (from requests->transformers) (2024.2.2)\n",
            "Requirement already satisfied: MarkupSafe>=2.0 in /usr/local/lib/python3.10/dist-packages (from jinja2->torch->bitsandbytes) (2.1.5)\n",
            "Requirement already satisfied: mpmath>=0.19 in /usr/local/lib/python3.10/dist-packages (from sympy->torch->bitsandbytes) (1.3.0)\n",
            "Collecting git+https://github.com/openai/whisper.git\n",
            "  Cloning https://github.com/openai/whisper.git to /tmp/pip-req-build-mei4s81o\n",
            "  Running command git clone --filter=blob:none --quiet https://github.com/openai/whisper.git /tmp/pip-req-build-mei4s81o\n",
            "  Resolved https://github.com/openai/whisper.git to commit ba3f3cd54b0e5b8ce1ab3de13e32122d0d5f98ab\n",
            "  Installing build dependencies ... \u001b[?25l\u001b[?25hdone\n",
            "  Getting requirements to build wheel ... \u001b[?25l\u001b[?25hdone\n",
            "  Preparing metadata (pyproject.toml) ... \u001b[?25l\u001b[?25hdone\n",
            "Requirement already satisfied: numba in /usr/local/lib/python3.10/dist-packages (from openai-whisper==20231117) (0.58.1)\n",
            "Requirement already satisfied: numpy in /usr/local/lib/python3.10/dist-packages (from openai-whisper==20231117) (1.25.2)\n",
            "Requirement already satisfied: torch in /usr/local/lib/python3.10/dist-packages (from openai-whisper==20231117) (2.2.2)\n",
            "Requirement already satisfied: tqdm in /usr/local/lib/python3.10/dist-packages (from openai-whisper==20231117) (4.66.2)\n",
            "Requirement already satisfied: more-itertools in /usr/local/lib/python3.10/dist-packages (from openai-whisper==20231117) (10.1.0)\n",
            "Requirement already satisfied: tiktoken in /usr/local/lib/python3.10/dist-packages (from openai-whisper==20231117) (0.6.0)\n",
            "Requirement already satisfied: triton<3,>=2.0.0 in /usr/local/lib/python3.10/dist-packages (from openai-whisper==20231117) (2.2.0)\n",
            "Requirement already satisfied: filelock in /usr/local/lib/python3.10/dist-packages (from triton<3,>=2.0.0->openai-whisper==20231117) (3.13.4)\n",
            "Requirement already satisfied: llvmlite<0.42,>=0.41.0dev0 in /usr/local/lib/python3.10/dist-packages (from numba->openai-whisper==20231117) (0.41.1)\n",
            "Requirement already satisfied: regex>=2022.1.18 in /usr/local/lib/python3.10/dist-packages (from tiktoken->openai-whisper==20231117) (2023.12.25)\n",
            "Requirement already satisfied: requests>=2.26.0 in /usr/local/lib/python3.10/dist-packages (from tiktoken->openai-whisper==20231117) (2.31.0)\n",
            "Requirement already satisfied: typing-extensions>=4.8.0 in /usr/local/lib/python3.10/dist-packages (from torch->openai-whisper==20231117) (4.11.0)\n",
            "Requirement already satisfied: sympy in /usr/local/lib/python3.10/dist-packages (from torch->openai-whisper==20231117) (1.12)\n",
            "Requirement already satisfied: networkx in /usr/local/lib/python3.10/dist-packages (from torch->openai-whisper==20231117) (3.3)\n",
            "Requirement already satisfied: jinja2 in /usr/local/lib/python3.10/dist-packages (from torch->openai-whisper==20231117) (3.1.3)\n",
            "Requirement already satisfied: fsspec in /usr/local/lib/python3.10/dist-packages (from torch->openai-whisper==20231117) (2023.6.0)\n",
            "Requirement already satisfied: nvidia-cuda-nvrtc-cu12==12.1.105 in /usr/local/lib/python3.10/dist-packages (from torch->openai-whisper==20231117) (12.1.105)\n",
            "Requirement already satisfied: nvidia-cuda-runtime-cu12==12.1.105 in /usr/local/lib/python3.10/dist-packages (from torch->openai-whisper==20231117) (12.1.105)\n",
            "Requirement already satisfied: nvidia-cuda-cupti-cu12==12.1.105 in /usr/local/lib/python3.10/dist-packages (from torch->openai-whisper==20231117) (12.1.105)\n",
            "Requirement already satisfied: nvidia-cudnn-cu12==8.9.2.26 in /usr/local/lib/python3.10/dist-packages (from torch->openai-whisper==20231117) (8.9.2.26)\n",
            "Requirement already satisfied: nvidia-cublas-cu12==12.1.3.1 in /usr/local/lib/python3.10/dist-packages (from torch->openai-whisper==20231117) (12.1.3.1)\n",
            "Requirement already satisfied: nvidia-cufft-cu12==11.0.2.54 in /usr/local/lib/python3.10/dist-packages (from torch->openai-whisper==20231117) (11.0.2.54)\n",
            "Requirement already satisfied: nvidia-curand-cu12==10.3.2.106 in /usr/local/lib/python3.10/dist-packages (from torch->openai-whisper==20231117) (10.3.2.106)\n",
            "Requirement already satisfied: nvidia-cusolver-cu12==11.4.5.107 in /usr/local/lib/python3.10/dist-packages (from torch->openai-whisper==20231117) (11.4.5.107)\n",
            "Requirement already satisfied: nvidia-cusparse-cu12==12.1.0.106 in /usr/local/lib/python3.10/dist-packages (from torch->openai-whisper==20231117) (12.1.0.106)\n",
            "Requirement already satisfied: nvidia-nccl-cu12==2.19.3 in /usr/local/lib/python3.10/dist-packages (from torch->openai-whisper==20231117) (2.19.3)\n",
            "Requirement already satisfied: nvidia-nvtx-cu12==12.1.105 in /usr/local/lib/python3.10/dist-packages (from torch->openai-whisper==20231117) (12.1.105)\n",
            "Requirement already satisfied: nvidia-nvjitlink-cu12 in /usr/local/lib/python3.10/dist-packages (from nvidia-cusolver-cu12==11.4.5.107->torch->openai-whisper==20231117) (12.4.127)\n",
            "Requirement already satisfied: charset-normalizer<4,>=2 in /usr/local/lib/python3.10/dist-packages (from requests>=2.26.0->tiktoken->openai-whisper==20231117) (3.3.2)\n",
            "Requirement already satisfied: idna<4,>=2.5 in /usr/local/lib/python3.10/dist-packages (from requests>=2.26.0->tiktoken->openai-whisper==20231117) (3.6)\n",
            "Requirement already satisfied: urllib3<3,>=1.21.1 in /usr/local/lib/python3.10/dist-packages (from requests>=2.26.0->tiktoken->openai-whisper==20231117) (2.0.7)\n",
            "Requirement already satisfied: certifi>=2017.4.17 in /usr/local/lib/python3.10/dist-packages (from requests>=2.26.0->tiktoken->openai-whisper==20231117) (2024.2.2)\n",
            "Requirement already satisfied: MarkupSafe>=2.0 in /usr/local/lib/python3.10/dist-packages (from jinja2->torch->openai-whisper==20231117) (2.1.5)\n",
            "Requirement already satisfied: mpmath>=0.19 in /usr/local/lib/python3.10/dist-packages (from sympy->torch->openai-whisper==20231117) (1.3.0)\n"
          ]
        }
      ],
      "source": [
        "!pip install langchain\n",
        "!pip install pytube\n",
        "!pip install sentence_transformers\n",
        "!pip install xformers\n",
        "!pip install bitsandbytes accelerate transformers\n",
        "!pip install git+https://github.com/openai/whisper.git"
      ]
    },
    {
      "cell_type": "code",
      "execution_count": null,
      "metadata": {
        "id": "mtKIIYfoQDE7"
      },
      "outputs": [],
      "source": [
        "from langchain import HuggingFacePipeline, PromptTemplate\n",
        "from langchain.chains import RetrievalQA\n",
        "from langchain.text_splitter import RecursiveCharacterTextSplitter\n",
        "from langchain.embeddings import HuggingFaceEmbeddings\n",
        "from langchain.vectorstores import Pinecone\n",
        "from transformers import AutoTokenizer, TextStreamer,AutoModelForCausalLM, pipeline\n",
        "import os\n",
        "import sys\n",
        "import torch\n",
        "import whisper\n",
        "from pytube import YouTube"
      ]
    },
    {
      "cell_type": "code",
      "execution_count": null,
      "metadata": {
        "colab": {
          "base_uri": "https://localhost:8080/"
        },
        "id": "goMHh0CoRiVc",
        "outputId": "9c0d4310-09ac-4829-b314-5ca774dad5b7"
      },
      "outputs": [
        {
          "output_type": "stream",
          "name": "stdout",
          "text": [
            "Download Completed!\n"
          ]
        }
      ],
      "source": [
        "video_link = \"https://www.youtube.com/watch?v=mKDeMvFjiQ4\"\n",
        "\n",
        "try:\n",
        "    video = YouTube(video_link)\n",
        "    audio = video.streams.filter(only_audio=True, file_extension='mp4').first()\n",
        "    audio.download(filename=\"audio-file.mp4\")\n",
        "    print('Download Completed!')\n",
        "\n",
        "except:\n",
        "    print(\"Connection Error\")"
      ]
    },
    {
      "cell_type": "code",
      "execution_count": null,
      "metadata": {
        "id": "nCNRH-c8R5Q6"
      },
      "outputs": [],
      "source": [
        "model = whisper.load_model(\"base\")\n",
        "result = model.transcribe(\"audio-file.mp4\")"
      ]
    },
    {
      "cell_type": "code",
      "execution_count": null,
      "metadata": {
        "colab": {
          "base_uri": "https://localhost:8080/"
        },
        "id": "VgCw6LbiSJ-I",
        "outputId": "596ed20a-316e-449b-bbca-572f505f4e43"
      },
      "outputs": [
        {
          "output_type": "stream",
          "name": "stdout",
          "text": [
            " This is the story of Bill and Katie, who are the best friends. Last year Bill was working in a big company, but he wasn't very happy with his boss. And Katie, she was really bored with working as a waitress. She had to take a long way to work. Best friend Julie and they decided to make a killer explainer video together. They started looking for actors to pick the right one. Now that they have the character, they need the right setting. The website is for their coffee shop, so they go into the city. As they walk through the streets, they see the perfect little coffee shop to film. Oh no, there's a problem. Zombies invaded the city and the police can't stop them. Mike and Julia doomed. They run away and forget about their video. So this is Bill. He belongs to the Stone Cutters Club, a group of business people who do good for the community. Now every year, the stone cutters put on a dinner and charity dance for people in need. Bill signed up with the Cause Guru website, so the stone cutters can manage their volunteers and promote their events. Now they track whose volunteers to bring the music, decorations, food, and even whose volunteered for the cleanup committee. They also give the venue up to the men at details on how many tables and chairs will be needed. Bill sells tickets to the big event, using Cause Guru's donation and ticketing function.\n"
          ]
        }
      ],
      "source": [
        "print(result[\"text\"])"
      ]
    },
    {
      "cell_type": "code",
      "execution_count": null,
      "metadata": {
        "colab": {
          "base_uri": "https://localhost:8080/"
        },
        "id": "OC6VMDmpSMmK",
        "outputId": "f810bfaa-9622-4436-b851-b7d313f43f22"
      },
      "outputs": [
        {
          "output_type": "execute_result",
          "data": {
            "text/plain": [
              "6"
            ]
          },
          "metadata": {},
          "execution_count": 6
        }
      ],
      "source": [
        "text_splitter = RecursiveCharacterTextSplitter(chunk_size=256, chunk_overlap=32)\n",
        "text_chunks = text_splitter.split_text(result[\"text\"])\n",
        "len(text_chunks)"
      ]
    },
    {
      "cell_type": "code",
      "execution_count": null,
      "metadata": {
        "colab": {
          "base_uri": "https://localhost:8080/"
        },
        "id": "RUqPll60vlae",
        "outputId": "6029348d-b4b7-42ed-8d9d-0adfccff7be9"
      },
      "outputs": [
        {
          "output_type": "stream",
          "name": "stdout",
          "text": [
            "This is the story of Bill and Katie, who are the best friends. Last year Bill was working in a big company, but he wasn't very happy with his boss. And Katie, she was really bored with working as a waitress. She had to take a long way to work. Best friend\n"
          ]
        }
      ],
      "source": [
        "print(text_chunks[0])"
      ]
    },
    {
      "cell_type": "code",
      "execution_count": null,
      "metadata": {
        "colab": {
          "base_uri": "https://localhost:8080/"
        },
        "id": "3gwRz-3oSPDg",
        "outputId": "384820a6-32c3-469f-9847-9278673d7894"
      },
      "outputs": [
        {
          "output_type": "stream",
          "name": "stderr",
          "text": [
            "/usr/local/lib/python3.10/dist-packages/huggingface_hub/utils/_token.py:88: UserWarning: \n",
            "The secret `HF_TOKEN` does not exist in your Colab secrets.\n",
            "To authenticate with the Hugging Face Hub, create a token in your settings tab (https://huggingface.co/settings/tokens), set it as secret in your Google Colab and restart your session.\n",
            "You will be able to reuse this secret in all of your notebooks.\n",
            "Please note that authentication is recommended but still optional to access public models or datasets.\n",
            "  warnings.warn(\n"
          ]
        }
      ],
      "source": [
        "embeddings = HuggingFaceEmbeddings(model_name='sentence-transformers/all-MiniLM-L6-v2')"
      ]
    },
    {
      "cell_type": "code",
      "execution_count": null,
      "metadata": {
        "id": "htKJTrBhYNZu"
      },
      "outputs": [],
      "source": []
    },
    {
      "cell_type": "code",
      "execution_count": null,
      "metadata": {
        "id": "AEVxl4dNUzgx"
      },
      "outputs": [],
      "source": [
        "query_result = embeddings.embed_query(\"Hello World\")"
      ]
    },
    {
      "cell_type": "code",
      "execution_count": null,
      "metadata": {
        "colab": {
          "base_uri": "https://localhost:8080/"
        },
        "id": "5iCFRRPjWmU1",
        "outputId": "0f7d3152-28b4-428c-cfd1-c3e2d59be0de"
      },
      "outputs": [
        {
          "output_type": "stream",
          "name": "stdout",
          "text": [
            "Length 384\n"
          ]
        }
      ],
      "source": [
        "print(\"Length\", len(query_result))"
      ]
    },
    {
      "cell_type": "code",
      "execution_count": null,
      "metadata": {
        "colab": {
          "base_uri": "https://localhost:8080/"
        },
        "id": "ZLyfFcRC1ugz",
        "outputId": "1ab1230e-4314-4c78-ec83-28158c619c8d"
      },
      "outputs": [
        {
          "output_type": "stream",
          "name": "stdout",
          "text": [
            "[-0.03447728976607323, 0.031023146584630013, 0.006734955124557018, 0.02610897459089756, -0.03936200961470604, -0.16030250489711761, 0.06692398339509964, -0.006441479083150625, -0.04745052754878998, 0.014758859761059284, 0.07087533921003342, 0.05552750825881958, 0.01919332891702652, -0.02625131607055664, -0.010109510272741318, -0.026940539479255676, 0.02230740711092949, -0.022226667031645775, -0.1496926248073578, -0.017493100836873055, 0.007676260080188513, 0.05435231700539589, 0.003254511160776019, 0.031725987792015076, -0.08462139219045639, -0.029406022280454636, 0.05159567669034004, 0.048124074935913086, -0.003314799861982465, -0.05827919393777847, 0.04196930676698685, 0.022210730239748955, 0.1281888335943222, -0.02233896404504776, -0.011656232178211212, 0.06292839348316193, -0.03287629038095474, -0.09122603386640549, -0.03117532655596733, 0.05269954726099968, 0.0470348559319973, -0.08420305699110031, -0.030056172981858253, -0.020744824782013893, 0.009517737664282322, -0.003721745917573571, 0.00734328106045723, 0.03932435065507889, 0.09327404201030731, -0.0037885596975684166, -0.05274210125207901, -0.05805819854140282, -0.0068643647246062756, 0.00528321648016572, 0.08289298415184021, 0.01936272531747818, 0.006284462288022041, -0.010330764576792717, 0.009032360278069973, -0.037683770060539246, -0.045206066220998764, 0.02401631698012352, -0.00694415345788002, 0.013491613790392876, 0.10005495697259903, -0.07168380916118622, -0.021695056930184364, 0.03161851316690445, -0.05163462460041046, -0.08224775642156601, -0.06569333374500275, -0.009895366616547108, 0.005816434510052204, 0.07355454564094543, -0.034050337970256805, 0.024886056780815125, 0.01448807679116726, 0.02645735815167427, 0.009656720794737339, 0.030217371881008148, 0.05280394107103348, -0.07535989582538605, 0.009897193871438503, 0.029836857691407204, 0.01755554787814617, 0.023091943934559822, 0.00193386385217309, 0.0014001763192936778, -0.04717598110437393, -0.011194352991878986, -0.1142013669013977, -0.019811952486634254, 0.04026621952652931, 0.002193037886172533, -0.07979221642017365, -0.025382330641150475, 0.09448301047086716, -0.02898111194372177, -0.14500249922275543, 0.23097743093967438, 0.027731135487556458, 0.03211149945855141, 0.03106502816081047, 0.042832836508750916, 0.06423784047365189, 0.03216315433382988, -0.0048767453990876675, 0.05569945648312569, -0.03753238543868065, -0.02150559239089489, -0.028342682868242264, -0.02884688973426819, 0.038353096693754196, -0.017468681558966637, 0.052485302090644836, -0.07487604767084122, -0.031259685754776, 0.02184154838323593, -0.039895616471767426, -0.008587105199694633, 0.026956593617796898, -0.04849550873041153, 0.011469892226159573, 0.029618270695209503, -0.020572181791067123, 0.013103879056870937, 0.028833437711000443, -3.194199819506188e-33, 0.0647820308804512, -0.018130220472812653, 0.05178990960121155, 0.12198272347450256, 0.028780190274119377, 0.008722042664885521, -0.07052113860845566, -0.01690727472305298, 0.04073972627520561, 0.04211614653468132, 0.025447238236665726, 0.03574622794985771, -0.049144770950078964, 0.0021290984004735947, -0.015546572394669056, 0.05073060840368271, -0.04818526655435562, 0.035880617797374725, -0.00406706053763628, 0.10172474384307861, -0.055970024317502975, -0.010681051760911942, 0.01123578567057848, 0.09068647027015686, 0.004234445746988058, 0.035138677805662155, -0.009702819399535656, -0.09386521577835083, 0.09285559505224228, 0.008004932664334774, -0.007705381605774164, -0.05208674445748329, -0.012587991543114185, 0.003266880288720131, 0.0060135917738080025, 0.007581647485494614, 0.010517205111682415, -0.08634549379348755, -0.06987877190113068, -0.002533892635256052, -0.09097650647163391, 0.046887319535017014, 0.05207647383213043, 0.0071939085610210896, 0.010903628543019295, -0.005229529924690723, 0.013937324285507202, 0.02196834422647953, 0.03420856595039368, 0.06022467091679573, 0.00011664168414426968, 0.014731972478330135, -0.07008925080299377, 0.028499064967036247, -0.02760162204504013, 0.010768424719572067, 0.034830957651138306, -0.022487860172986984, 0.009769068099558353, 0.07722779363393784, 0.021588359028100967, 0.11495620012283325, -0.0680011585354805, 0.02376098930835724, -0.01598394848406315, -0.017826998606324196, 0.06439490616321564, 0.032025761902332306, 0.05027024447917938, -0.0059137106873095036, -0.033708006143569946, 0.017840348184108734, 0.01657336764037609, 0.06329657137393951, 0.034677185118198395, 0.04647345095872879, 0.09790617972612381, -0.006635450758039951, 0.025207029655575752, -0.07798835635185242, 0.016926445066928864, -0.0009457895066589117, 0.022471880540251732, -0.03825324773788452, 0.09570483863353729, -0.005350736901164055, 0.010469038970768452, -0.11524059623479843, -0.013262517750263214, -0.01070939190685749, -0.08311725407838821, 0.07327356934547424, 0.049392227083444595, -0.00899439211934805, -0.09584558755159378, 3.3661496637765335e-33, 0.12493181973695755, 0.01934969052672386, -0.05822569131851196, -0.03598823770880699, -0.050746772438287735, -0.04566240683197975, -0.08260340988636017, 0.14819474518299103, -0.08842115849256516, 0.06027444452047348, 0.051030199974775314, 0.010303161107003689, 0.1412142515182495, 0.030813857913017273, 0.06103309616446495, -0.05285125598311424, 0.13664889335632324, 0.009189888834953308, -0.017325233668088913, -0.012848642654716969, -0.007995259948074818, -0.0509800910949707, -0.052350591868162155, 0.007593055255711079, -0.015166299417614937, 0.016960322856903076, 0.02127053029835224, 0.020558010786771774, -0.1200280413031578, 0.014461825601756573, 0.026759888976812363, 0.025330642238259315, -0.0427546352148056, 0.006768438965082169, -0.014458613470196724, 0.04526197537779808, -0.09147657454013824, -0.019439179450273514, -0.017833471298217773, -0.0549100898206234, -0.05264109745621681, -0.010459020733833313, -0.05201605334877968, 0.020892057567834854, -0.0799703449010849, -0.012111306190490723, -0.057731445878744125, 0.02317824400961399, -0.008031674660742283, -0.02598927915096283, -0.07995666563510895, -0.020728837698698044, 0.048817701637744904, -0.02038918063044548, -0.049176573753356934, 0.014159664511680603, -0.06362210214138031, -0.007807400543242693, 0.016431497409939766, -0.02568250149488449, 0.013381115160882473, 0.02624874748289585, 0.00997835025191307, 0.06322893500328064, 0.002672104863449931, -0.006582846399396658, 0.016631968319416046, 0.032366495579481125, 0.03794250637292862, -0.036376021802425385, -0.006910955999046564, 0.0001596940855961293, -0.0016335650580003858, -0.027278197929263115, -0.028038013726472855, 0.049681540578603745, -0.028867172077298164, -0.00241805799305439, 0.014774874784052372, 0.009764590300619602, 0.0057975538074970245, 0.013486144132912159, 0.005567946471273899, 0.03722703456878662, 0.0072325351648032665, 0.04015625640749931, 0.0815032348036766, 0.0719916820526123, -0.013056186959147453, -0.042882081121206284, -0.011011198163032532, 0.00489776162430644, -0.009229745715856552, 0.035191427916288376, -0.05103502795100212, -1.571437557856825e-08, -0.08862442523241043, 0.023909322917461395, -0.016238732263445854, 0.031700488179922104, 0.02728419378399849, 0.05246874317526817, -0.047070980072021484, -0.05884750187397003, -0.0632082000374794, 0.04088851809501648, 0.04982795938849449, 0.10655166953802109, -0.07450233399868011, -0.01249542087316513, 0.01837068982422352, 0.03947410732507706, -0.024797867983579636, 0.014516268856823444, -0.037069171667099, 0.020015720278024673, -4.856608939007856e-05, 0.009866546839475632, 0.024838771671056747, -0.05245812609791756, 0.029314152896404266, -0.08719193935394287, -0.014499787241220474, 0.026019051671028137, -0.018746379762887955, -0.07620517164468765, 0.035043299198150635, 0.10363949835300446, -0.028050502762198448, 0.012718193233013153, -0.07632552832365036, -0.018652401864528656, 0.024976713582873344, 0.08144531399011612, 0.06875887513160706, -0.06405662000179291, -0.08389388024806976, 0.06136239320039749, -0.03354554623365402, -0.10615338385105133, -0.04008057713508606, 0.03253021463751793, 0.07662486284971237, -0.07301613688468933, 0.00033759165671654046, -0.04087159037590027, -0.07578855752944946, 0.027527647092938423, 0.07462545484304428, 0.017717277631163597, 0.09121843427419662, 0.11022015661001205, 0.0005697639426216483, 0.051463305950164795, -0.01455127727240324, 0.033232007175683975, 0.023792214691638947, -0.022889811545610428, 0.0389375165104866, 0.03020678646862507]\n"
          ]
        }
      ],
      "source": [
        "print(query_result)"
      ]
    },
    {
      "cell_type": "code",
      "execution_count": null,
      "metadata": {
        "colab": {
          "base_uri": "https://localhost:8080/"
        },
        "id": "Wc-PBZ_i2Gqi",
        "outputId": "314e61ff-d352-4dc1-b870-c7a79dae1ad0"
      },
      "outputs": [
        {
          "output_type": "stream",
          "name": "stdout",
          "text": [
            "<class 'list'>\n"
          ]
        }
      ],
      "source": [
        "print(type(query_result))"
      ]
    },
    {
      "cell_type": "code",
      "execution_count": null,
      "metadata": {
        "colab": {
          "base_uri": "https://localhost:8080/"
        },
        "id": "vReA0rrAXive",
        "outputId": "271b88c4-912f-4c28-83ca-876d612bc293"
      },
      "outputs": [
        {
          "output_type": "stream",
          "name": "stdout",
          "text": [
            "Requirement already satisfied: pinecone-client in /usr/local/lib/python3.10/dist-packages (3.2.2)\n",
            "Requirement already satisfied: certifi>=2019.11.17 in /usr/local/lib/python3.10/dist-packages (from pinecone-client) (2024.2.2)\n",
            "Requirement already satisfied: tqdm>=4.64.1 in /usr/local/lib/python3.10/dist-packages (from pinecone-client) (4.66.2)\n",
            "Requirement already satisfied: typing-extensions>=3.7.4 in /usr/local/lib/python3.10/dist-packages (from pinecone-client) (4.11.0)\n",
            "Requirement already satisfied: urllib3>=1.26.0 in /usr/local/lib/python3.10/dist-packages (from pinecone-client) (2.0.7)\n"
          ]
        }
      ],
      "source": [
        "!pip install pinecone-client"
      ]
    },
    {
      "cell_type": "code",
      "execution_count": null,
      "metadata": {
        "id": "T8Mp_c9MXj_y"
      },
      "outputs": [],
      "source": [
        "# Import the Pinecone library\n",
        "from pinecone import Pinecone\n",
        "\n",
        "# Set your environment variables\n",
        "os.environ['PINECONE_API_KEY'] = '4578e5a0-4444-480a-8040-3b114c0bb9a8'\n",
        "os.environ['PINECONE_ENVIRONMENT'] = 'gcp-starter'\n",
        "api_key = \"4578e5a0-4444-480a-8040-3b114c0bb9a8\"\n",
        "environment = \"gcp-starter\"\n",
        "# Initialize the Pinecone client\n",
        "pc = Pinecone(api_key=api_key,environment=environment)"
      ]
    },
    {
      "cell_type": "code",
      "execution_count": null,
      "metadata": {
        "colab": {
          "base_uri": "https://localhost:8080/"
        },
        "id": "cHjLKBcTYyCM",
        "outputId": "28e32ec1-9ab4-47ee-a45d-1ba0dcc5e807"
      },
      "outputs": [
        {
          "output_type": "stream",
          "name": "stdout",
          "text": [
            "{'indexes': [{'dimension': 384,\n",
            "              'host': 'doc-chat-ef51ae3.svc.gcp-starter.pinecone.io',\n",
            "              'metric': 'cosine',\n",
            "              'name': 'doc-chat',\n",
            "              'spec': {'pod': {'environment': 'gcp-starter',\n",
            "                               'pod_type': 'starter',\n",
            "                               'pods': 1,\n",
            "                               'replicas': 1,\n",
            "                               'shards': 1}},\n",
            "              'status': {'ready': True, 'state': 'Ready'}}]}\n"
          ]
        }
      ],
      "source": [
        "indexes = pc.list_indexes()\n",
        "print(indexes)"
      ]
    },
    {
      "cell_type": "code",
      "execution_count": null,
      "metadata": {
        "id": "cz1qwWvEYO4g"
      },
      "outputs": [],
      "source": [
        "index = pc.Index('doc-chat')\n",
        "index_name='doc-chat'"
      ]
    },
    {
      "cell_type": "code",
      "execution_count": null,
      "metadata": {
        "colab": {
          "base_uri": "https://localhost:8080/"
        },
        "id": "FEBelOwUb134",
        "outputId": "05bb6e10-39a0-419e-8614-daf530099469"
      },
      "outputs": [
        {
          "output_type": "execute_result",
          "data": {
            "text/plain": [
              "{'dimension': 384,\n",
              " 'index_fullness': 6e-05,\n",
              " 'namespaces': {'': {'vector_count': 6}},\n",
              " 'total_vector_count': 6}"
            ]
          },
          "metadata": {},
          "execution_count": 18
        }
      ],
      "source": [
        "index.describe_index_stats()"
      ]
    },
    {
      "cell_type": "code",
      "execution_count": null,
      "metadata": {
        "id": "RNEGEhmYvG0M"
      },
      "outputs": [],
      "source": [
        "embedding_list=[]\n",
        "for text in text_chunks:\n",
        "  embedding_list.append(embeddings.embed_query(text))"
      ]
    },
    {
      "cell_type": "code",
      "execution_count": null,
      "metadata": {
        "colab": {
          "base_uri": "https://localhost:8080/"
        },
        "id": "YnocpzX0zt8h",
        "outputId": "455a9a65-b4cf-4843-86a6-1166062fc239"
      },
      "outputs": [
        {
          "output_type": "stream",
          "name": "stdout",
          "text": [
            "[[-0.05193227902054787, 0.014974727295339108, 0.06725891679525375, -0.013096134178340435, -0.011082282289862633, 0.02363680861890316, -0.03374293074011803, -0.01082273107022047, -0.07074625045061111, -0.10477222502231598, 0.046646688133478165, 0.10294545441865921, 0.04354002699255943, 0.05900841951370239, -0.0692569762468338, -0.024105796590447426, -0.0005542692961171269, -0.05520312488079071, -0.04703099653124809, -0.014311602339148521, -0.007753225043416023, -0.043173160403966904, -0.03892286866903305, 0.03640507161617279, 0.023123161867260933, 0.05235898494720459, 0.05489184707403183, -0.06009134277701378, -0.07424572110176086, 0.0206332765519619, -0.0745956152677536, 0.01524308416992426, -0.024404127150774002, 0.004960023798048496, 0.02376175858080387, 0.008372113108634949, 0.05536484718322754, 0.0473916232585907, 0.0551232174038887, -0.0064967041835188866, 0.002721871482208371, -0.11362801492214203, 0.03113035298883915, -0.0457809679210186, -0.04857645183801651, 0.018446246162056923, 0.013947821222245693, -0.04314131662249565, -0.018152298405766487, 0.03394315764307976, -0.06069755181670189, 0.026560336351394653, -0.04054293408989906, -0.03327980265021324, 0.14174266159534454, 0.018952541053295135, 0.03706297278404236, 0.0056897541508078575, -0.000497435568831861, -0.02481446973979473, -0.030632730573415756, -0.09252799302339554, 0.016898812726140022, 0.00574792455881834, 0.07593677192926407, 0.01929946057498455, -0.08430460840463638, 0.08488839864730835, -0.09804808348417282, -0.030182013288140297, -0.02807280607521534, 0.02358895353972912, -0.009652998298406601, 0.008922107517719269, 0.056104641407728195, -0.014534040354192257, 0.06526292115449905, -0.0012387665919959545, 0.03761718049645424, 0.045104656368494034, -0.07090868055820465, -0.058366671204566956, -0.03650669381022453, -0.0126221664249897, -0.055969759821891785, -0.09795070439577103, -0.004067747853696346, -0.07263635843992233, 0.04318346828222275, 0.025508582592010498, -0.13114802539348602, 0.07071199268102646, -0.03233499079942703, -0.07202906906604767, -0.006173873785883188, -0.015781069174408913, -0.021416107192635536, -0.029311547055840492, -0.10642165690660477, 0.022972792387008667, 0.012361702509224415, 0.055622946470975876, 0.07447637617588043, -0.027095632627606392, 0.16236266493797302, 0.06509730964899063, 0.0665372759103775, 0.015242010354995728, 0.045825980603694916, -0.017264533787965775, 0.05328350141644478, 0.011442692950367928, -0.004834755323827267, -0.0342801995575428, -0.01152085606008768, -0.03068179078400135, 0.029755527153611183, -0.02665104530751705, -0.05235190689563751, -0.0383828803896904, 0.047654639929533005, 0.10581722855567932, -0.047534164041280746, -0.010429591871798038, -0.053625911474227905, -0.012026511132717133, 0.05236191675066948, 9.945778723780679e-34, 0.00845834705978632, -0.06008855253458023, 0.030382314696907997, 0.0633789449930191, 0.11593642085790634, 0.04663357511162758, -0.08809168636798859, 0.07049921154975891, -0.049921855330467224, -0.04614802822470665, -0.0811522901058197, -0.0390896312892437, 0.038885388523340225, -0.02914244867861271, -0.025784341618418694, 0.0034281222615391016, -0.03614988550543785, 0.06080480292439461, -0.004799698945134878, 0.005917041562497616, 0.02081374265253544, 0.005515703931450844, -0.03514598682522774, -0.005055886693298817, -0.10873077064752579, -0.001085143769159913, 0.05926886200904846, -0.015016838908195496, 0.1102232038974762, 0.015412375330924988, 0.02999221533536911, 0.08105877041816711, 0.06554478406906128, -0.0033081902656704187, -0.046255648136138916, 0.015841420739889145, 0.027916375547647476, -0.03387818858027458, -0.004415692295879126, -0.008770531043410301, -0.0452590137720108, 0.049748506397008896, 0.06055620312690735, -0.03249840438365936, -0.15915873646736145, 0.08182573318481445, -0.01995544694364071, -0.05323764309287071, -0.00927761197090149, 0.01799832470715046, 0.015678193420171738, -0.053548865020275116, -0.029893921688199043, 0.03464233875274658, -0.02379346825182438, 0.017917700111865997, 0.04269028455018997, -0.06537362933158875, 0.056201886385679245, 0.01407074835151434, 0.044740259647369385, 0.05458911880850792, 0.0018233467126265168, -0.011765353381633759, 0.043315306305885315, 0.034060247242450714, 0.033621642738580704, -0.0015919085126370192, 0.05797489732503891, -0.01560290064662695, -0.0143459253013134, 0.0767785981297493, -0.007685828488320112, -0.06801724433898926, -0.0012475517578423023, 0.08397740870714188, -0.01625889167189598, -0.06493539363145828, -0.06517937034368515, -0.02220640331506729, 0.07456349581480026, -0.04235178977251053, 0.03812241554260254, -0.10325223207473755, -0.03912227973341942, 0.016384568065404892, -0.013911441899836063, -0.12134533375501633, -0.01608443446457386, 0.0997823104262352, -0.03682202845811844, 0.00227770465426147, 0.08432824909687042, 0.04152609407901764, 0.04868197441101074, -2.5234790896453066e-33, -0.02419579215347767, 0.023031681776046753, 0.01775987632572651, -0.049274783581495285, 0.10066643357276917, -0.056845445185899734, -0.06747155636548996, -0.020326631143689156, -0.007842904888093472, 0.05996664613485336, -0.06141280382871628, -0.06890898942947388, 0.042978234589099884, 0.03215652331709862, 0.05024752393364906, 0.04574529454112053, 0.09957922250032425, -0.0693754255771637, -0.01979232393205166, -0.033212482929229736, 0.037923380732536316, -0.02457563765347004, -0.04253944009542465, 0.10299189388751984, 0.023615794256329536, 0.0451347641646862, -0.019363556057214737, -0.04087302088737488, -0.04149797186255455, -0.01668267324566841, -0.0687074139714241, 0.0005885926657356322, 0.026003912091255188, 0.0016830196836963296, -0.08207567036151886, 0.05337357148528099, -0.14252212643623352, -0.07291720807552338, -0.01800893247127533, -0.09612375497817993, 0.0967041626572609, -0.09767625480890274, -0.004520756658166647, 0.009084029123187065, -0.03550871089100838, 0.009035072289407253, 0.03310219198465347, -0.08043748140335083, -0.04222314804792404, -0.03862716257572174, 0.021116944029927254, -0.030571598559617996, -0.039848294109106064, 0.03988494351506233, -0.03637310490012169, -0.06183338537812233, 0.039129383862018585, 0.03778117522597313, 0.11294224858283997, -0.015728024765849113, -0.002693933667615056, -0.09295216202735901, 0.01470394991338253, 0.0735996812582016, -0.024364739656448364, -0.006381168030202389, 0.028831711038947105, -0.029079008847475052, -0.03197461739182472, 0.033690351992845535, -0.04374401643872261, 0.0698729008436203, -0.01728631928563118, 0.021529117599129677, 0.0534503273665905, 0.05946808308362961, -0.05884113535284996, -0.06167595833539963, -0.06927776336669922, 0.012199590913951397, 0.015444808639585972, 0.01100186537951231, 0.04699956998229027, 0.057496219873428345, -0.0008904970600269735, 0.02335801161825657, 0.06806132197380066, 0.07862859964370728, -0.07163722068071365, 0.06817671656608582, -0.06133980676531792, 0.010497868992388248, 0.006558912340551615, -0.014712913893163204, 0.045894112437963486, -4.576239831521889e-08, -0.004849987104535103, -0.05273091793060303, -0.09335147589445114, -0.07063861191272736, -0.05093610659241676, 0.01307203620672226, 0.0529777891933918, 0.056117989122867584, 0.017652731388807297, 0.08169430494308472, -0.061120107769966125, 0.006116942502558231, 0.01034950278699398, 0.05998411029577255, 0.006112554110586643, -0.022937797009944916, 0.07554617524147034, -0.0404280349612236, 0.0323459692299366, 0.02592891827225685, -0.024484733119606972, -0.016978900879621506, 0.025324489921331406, 0.04677481949329376, -0.01065877079963684, 0.00865262746810913, 0.006978070363402367, 0.06476894021034241, 0.030227508395910263, 0.027637578547000885, -0.050068505108356476, 0.013260257430374622, -0.07265442609786987, -0.035580143332481384, 0.007052937056869268, -0.042095039039850235, 0.0031010014936327934, -0.05331893637776375, 0.022876597940921783, 0.045840103179216385, -0.016170168295502663, 0.005817850586026907, -0.0034024568740278482, 0.020766718313097954, 0.052363310009241104, 0.032643888145685196, 0.06966814398765564, -0.047161996364593506, -0.012736136093735695, 0.010260097682476044, -0.013713442720472813, -0.03421671688556671, 0.00819415133446455, -0.07400926202535629, -0.010451730340719223, -0.07065711915493011, -0.05244188755750656, 0.04097842797636986, 0.03597292676568031, -0.027150798588991165, 0.040053416043519974, 0.11890886723995209, -0.003967389464378357, 0.052837274968624115], [-0.10563685745000839, -0.033879414200782776, 0.048608213663101196, -0.03193645551800728, -0.01624559983611107, 0.07013613730669022, -0.0313052162528038, 0.0360405296087265, 0.012650303542613983, -0.051671046763658524, 0.0013572828611359, 0.042536649852991104, -0.018503639847040176, 0.04111175239086151, -0.02983488328754902, -0.06798399239778519, 0.019985361024737358, -0.023551754653453827, -0.04593372717499733, -0.03140606731176376, 0.030230890959501266, -0.13504239916801453, 0.08323553949594498, -0.013285565190017223, 0.00638858787715435, 0.042580511420965195, -0.0025611496530473232, 0.054202184081077576, -0.00928517710417509, -0.0038212276995182037, -0.013231915421783924, 0.041859861463308334, 0.02718399092555046, 0.03147422894835472, -0.05579322203993797, 0.03565363213419914, 0.02969479374587536, 0.057476628571748734, 0.032317355275154114, -0.0012508421204984188, -0.06506011635065079, -0.06201047822833061, 0.02950456365942955, 0.004801894538104534, -0.05375391244888306, -0.05751272290945053, 0.02099756896495819, -0.064061239361763, 0.03197317197918892, -0.05500505492091179, -0.1458946168422699, 0.005607532802969217, -0.04011893272399902, -0.08107099682092667, 0.05273476615548134, 0.025608902797102928, 0.05620400235056877, -0.014479454606771469, 0.030361013486981392, -0.03672674298286438, -0.0288211852312088, -0.0711517184972763, -0.025044966489076614, 0.1158914640545845, 0.1037755012512207, -0.007632032502442598, -0.05896098166704178, 0.05600680410861969, -0.015943655744194984, -0.04007214680314064, -0.12794572114944458, -0.02101489156484604, -0.01223048660904169, -0.08671663701534271, -0.007970684207975864, -0.037039827555418015, 0.04932592436671257, -0.023241983726620674, -0.03927059844136238, 0.030873771756887436, 0.025565657764673233, -0.08107079565525055, 0.01685991883277893, 0.05159546062350273, 0.0026637623086571693, 0.006066428497433662, 0.09978548437356949, -0.0916316956281662, 0.04017483443021774, 0.046887803822755814, -0.11867903918027878, 0.03513159230351448, 0.01169067807495594, 0.0007934925961308181, -0.03323214128613472, 0.019417354837059975, -0.018816271796822548, -0.038345180451869965, -0.013228006660938263, 0.04376722127199173, -0.029394496232271194, -0.0697031319141388, 0.13986319303512573, -0.09229141473770142, 0.056313108652830124, -0.043312836438417435, 0.0924983024597168, 0.07788800448179245, 0.07121714949607849, -0.07461710274219513, 0.017726538702845573, -0.033308204263448715, -0.009418587200343609, 0.06333895027637482, 0.11280863732099533, 0.057821135967969894, 0.02314727008342743, -0.0011756207095459104, 0.007628300227224827, -0.0754760280251503, 0.05049614980816841, 0.02174612693488598, -0.00686716428026557, -0.0009670458384789526, 0.009968091733753681, 0.05660608783364296, 0.005088786594569683, -1.279097188280483e-33, 0.01074353326112032, 0.0356345996260643, 0.0452490895986557, 0.021987944841384888, 0.1021035835146904, 0.05602818354964256, -0.056694358587265015, 0.09224335849285126, -0.04732045158743858, 0.08148114383220673, 0.009838639758527279, -0.08631771057844162, -0.07486741244792938, -0.014669453725218773, -0.05558778718113899, 0.015847615897655487, -0.08832425624132156, 0.05315036326646805, -0.013920396566390991, -0.007389820646494627, 0.0035476998891681433, 0.02412695251405239, -0.04277768358588219, -0.03249206393957138, -0.08872243762016296, 0.01772245205938816, 0.06303003430366516, 0.0653325542807579, 0.09578444808721542, -0.048738982528448105, -0.0356026329100132, 0.06667384505271912, -0.010374834761023521, 0.0008214683039113879, 0.029205432161688805, -0.02734537236392498, -0.0313892625272274, -0.009489920921623707, 0.02347654290497303, 0.0471908375620842, -0.029416633769869804, 0.046985384076833725, -0.010903751477599144, -0.01058154460042715, -0.10260489583015442, 0.05748271569609642, 0.0031968927942216396, 0.004030047450214624, 0.010230095125734806, 0.11599235981702805, 0.037990033626556396, 0.0002746761601883918, -0.01863793283700943, 0.05322037637233734, -0.028661372140049934, 0.07997525483369827, 0.029268495738506317, -0.05532054603099823, 0.06004291772842407, -0.02973957546055317, 0.08813948929309845, -0.012897888198494911, 0.008083567954599857, -0.017850616946816444, 0.023998459801077843, 0.008619323372840881, 0.06820598244667053, -0.09158144146203995, 0.0868450328707695, 0.047405462712049484, -0.08287332952022552, 0.043087802827358246, 0.06777200847864151, -0.05095036327838898, -0.03562029078602791, -0.010174712166190147, -0.1052330881357193, 0.025588247925043106, -0.02349826693534851, 0.04915439710021019, 0.06184208020567894, 0.019638901576399803, 0.005571138579398394, -0.019123146310448647, -0.07796857506036758, -0.10182614624500275, 0.009846271947026253, -0.057255085557699203, -0.03502817824482918, 0.009944903664290905, -0.007318845018744469, -0.005194044206291437, 0.007605687715113163, 0.01722770556807518, 0.08479738980531693, -5.475859976555676e-34, 0.05934848636388779, -0.05896424129605293, -0.04241115227341652, 0.017174862325191498, 0.0829508975148201, 0.0049154856242239475, -0.04326073080301285, 0.03452182188630104, 0.14603514969348907, 0.003105830866843462, 9.377974492963403e-05, -0.012112583965063095, 0.012214576825499535, -0.04865063726902008, 0.02341829612851143, -0.006368208676576614, 0.042069293558597565, -0.037063904106616974, -0.03177088871598244, -0.04693269729614258, 0.07278716564178467, -0.02459544874727726, -0.11538127809762955, 0.04415624588727951, 0.05165610834956169, 0.03127632290124893, 0.08321274071931839, 0.062246937304735184, -0.09548508375883102, -0.023746902123093605, -0.06641187518835068, -0.062129195779561996, -0.04262959584593773, 0.055584877729415894, -0.12017342448234558, 0.04866403341293335, -0.10330899059772491, -0.03029717691242695, -0.08212033659219742, -0.024959735572338104, 0.03185676038265228, -0.04749516025185585, -0.05370885506272316, 0.07194444537162781, -0.012347462587058544, -0.004930071998387575, 0.04613235965371132, -0.02133030630648136, 0.0060369702987372875, 0.021605506539344788, 0.004736573901027441, -0.0465533509850502, 0.006186502519994974, -0.06444114446640015, -0.023330695927143097, -0.04833965003490448, 0.015637384727597237, -0.015243452042341232, 0.03995169699192047, -0.005973096005618572, -0.013765028677880764, -0.026944266632199287, -0.029891585931181908, 0.008722741156816483, -0.015385215170681477, -0.01031747367233038, -0.004001036752015352, -0.023237982764840126, -0.012978888116776943, 0.009474647231400013, 0.06339513510465622, -0.04131816700100899, -0.005878130439668894, 0.007543180603533983, 0.07018838077783585, 0.008542628027498722, -0.043317779898643494, -0.02269965223968029, -0.05391085147857666, -0.021554697304964066, 0.0026636370457708836, -0.007474127225577831, 0.019093533977866173, 0.0640769824385643, 0.060186922550201416, 0.08360457420349121, 0.049432069063186646, 0.053960856050252914, -0.024122148752212524, 0.05755050107836723, 0.0031400229781866074, 0.06827324628829956, 0.049293167889118195, -0.012689689174294472, 0.0038976192008703947, -4.1321285948470177e-08, -0.08524555712938309, -0.044731445610523224, -0.06893584877252579, -0.05432727560400963, -0.06634820252656937, 0.027847787365317345, -0.017850980162620544, -0.005560661666095257, 0.0034906642977148294, 0.05538398399949074, -0.0461793951690197, 0.03444883972406387, 0.05750800296664238, 0.09974740445613861, -0.024220386520028114, -0.051785968244075775, 0.018683722242712975, 0.06279014050960541, -0.07027825713157654, 0.03857436403632164, -0.06278975307941437, -0.08415643125772476, 0.07332254946231842, -8.830148726701736e-05, 0.010637160390615463, 0.03252033889293671, -0.02442583069205284, 0.03445813059806824, -0.0447562076151371, 0.050466425716876984, -0.07241016626358032, 0.020388338714838028, -0.007686075754463673, -0.013768834061920643, -0.011571631766855717, -0.014700359664857388, -0.0733855813741684, -0.011541546322405338, -0.020554611459374428, 0.02707662247121334, -0.009495791047811508, -0.03218572959303856, 0.007706205360591412, -0.009884942322969437, 0.019422976300120354, 0.09923180937767029, 0.06115778535604477, -0.11059476435184479, -0.0006365536246448755, 0.017039353027939796, 0.02376139909029007, -0.028967667371034622, -0.04918705299496651, -0.004948488436639309, 0.036036163568496704, -0.0033600213937461376, 0.021153200417757034, 0.10036446899175644, 0.0014647694770246744, 0.011728281155228615, 0.02268812619149685, 0.12737329304218292, -0.013430682942271233, 0.008164952509105206], [0.015029172413051128, 0.0767555981874466, -0.024995334446430206, 0.015237153507769108, 0.07374470680952072, 0.10021189600229263, 0.03888997435569763, -0.025875084102153778, -0.0036898250691592693, 0.03301228582859039, 0.09134438633918762, -0.003556697629392147, -0.02570498175919056, 0.008023476228117943, -0.03511696681380272, -0.04312170296907425, 0.007423953153192997, -0.049253810197114944, -0.04414290189743042, 0.07645649462938309, -0.02997586317360401, -0.05813773348927498, 0.12126153707504272, 0.021113205701112747, -0.03319397196173668, 0.07915424555540085, 0.010167383588850498, 0.03941420838236809, -0.04048026725649834, 0.04658283665776253, 0.03458379954099655, 0.033716000616550446, 0.03318607807159424, 0.0011552792275324464, 0.0693681463599205, 0.026225250214338303, 0.0999784991145134, -0.021566659212112427, 0.0613841637969017, 0.02196604758501053, 0.012039637193083763, -0.04056372493505478, -0.006491446867585182, -0.04702300205826759, -0.0036152966786175966, -0.04413557052612305, 0.00011724306386895478, 0.0222991481423378, 0.06053762510418892, -0.07628156989812851, -0.001725144567899406, -0.026583924889564514, 0.004100636579096317, -0.025738276541233063, -0.019116004928946495, -0.0651400238275528, 0.027841905131936073, -0.009700647555291653, 0.020014774054288864, 0.01442117802798748, 0.0010088463313877583, -0.05131952837109566, -0.030331257730722427, 0.06509192287921906, 0.0331328809261322, -0.0419832244515419, -0.04971402511000633, 0.018475521355867386, -0.010827907361090183, 0.02045086771249771, -0.04526283219456673, -0.03747239708900452, 0.048650920391082764, -0.02579709328711033, -0.02931213565170765, -0.03282196819782257, 0.006700534373521805, -0.08826663345098495, -0.010772475972771645, -0.004453167784959078, 0.07578691095113754, -0.09698755294084549, 0.022742118686437607, -0.0015132044209167361, 0.04438019543886185, 0.08371596783399582, 0.011210081167519093, -0.047586362808942795, 0.004825545009225607, 0.06050434336066246, -0.1322982907295227, 0.04551265016198158, -0.07058525830507278, 0.0020791792776435614, -0.03793172910809517, -0.08904102444648743, -0.02608274668455124, 0.05305186286568642, -0.013287968002259731, 0.014056972227990627, -0.04591378569602966, -0.01920095644891262, 0.1294989436864853, -0.07488466799259186, 0.06658747792243958, -0.06637703627347946, -0.0003039871226064861, -0.016776423901319504, 0.0256865955889225, -0.006854558829218149, -0.06127296760678291, 0.006110967602580786, -0.0030296382028609514, 0.029499566182494164, 0.12594179809093475, 0.03403785824775696, -0.021628381684422493, 0.007001948077231646, -0.03275624290108681, 0.036921314895153046, 0.05765838176012039, -0.013652498833835125, -0.0025289496406912804, 0.023662379011511803, 0.02746356464922428, 0.0554778128862381, 0.014588478952646255, -2.5813251666492714e-33, -0.02421761490404606, 0.016851134598255157, -0.031945906579494476, -0.0021187097299844027, 0.13512666523456573, -0.02962416782975197, -0.06671041250228882, 0.03117425926029682, 0.012889980338513851, 0.04233180731534958, -0.042440179735422134, -0.0934126153588295, 0.002759210066869855, 0.011393715627491474, -0.046518657356500626, 0.021129360422492027, 0.0033386475406587124, 0.024521619081497192, -0.04001752659678459, -0.04234516620635986, 0.03877365216612816, 0.015420494601130486, -0.026339039206504822, 0.09252101182937622, 0.024598337709903717, -0.0013742941664531827, -0.03676864877343178, 0.09260336309671402, 0.1447645127773285, -0.012726732529699802, -0.027141287922859192, 0.12624213099479675, -0.009932591579854488, -0.04573898762464523, 0.014804447069764137, 0.0560576431453228, -0.0035898524802178144, -0.003297043265774846, -0.04611757770180702, 0.016373498365283012, -0.11264559626579285, -0.0035308287478983402, -0.06566040217876434, 0.016684306785464287, -0.033174458891153336, 0.06774645298719406, 0.03829728439450264, -0.023219536989927292, -0.015741245821118355, 0.04364863038063049, 0.08218762278556824, -0.024671707302331924, -0.10556437820196152, 0.11776118725538254, 0.01242560613900423, 0.017222443595528603, -0.026309674605727196, -0.0911034643650055, 0.053218401968479156, -0.025238899514079094, 0.056138861924409866, 0.09003011882305145, 0.03242349997162819, 0.0013206234434619546, 0.0708654597401619, -0.02541331574320793, 0.11838801205158234, 0.025927787646651268, 0.07773950695991516, 0.031398702412843704, -0.0008656869758851826, -0.03677663952112198, 0.03999042883515358, -0.06672827899456024, 0.016987137496471405, 0.01036111544817686, -0.09884734451770782, -0.033141229301691055, 0.04538114741444588, 0.03512539714574814, 0.06963438540697098, -0.031560786068439484, -0.028106501325964928, -0.040280427783727646, -0.025921687483787537, -0.04948926344513893, 0.01542545948177576, -0.09491949528455734, -0.07755984365940094, -0.057280879467725754, -0.03236447647213936, 0.018083596602082253, 0.02013269066810608, 0.0038593546487390995, -0.02174229733645916, -4.424353647451254e-34, 0.06318413466215134, -0.01877809874713421, -0.07107765227556229, -0.04964953288435936, -0.06620252132415771, 0.031871479004621506, -0.0512409582734108, -0.007149651180952787, 0.08810405433177948, -0.050463590770959854, -0.13051286339759827, -0.053903158754110336, 0.033840492367744446, 0.06177840009331703, 0.10095379501581192, -0.0762922465801239, 0.06957032531499863, 0.014154713600873947, -0.04064811393618584, 0.026711424812674522, 0.019678689539432526, -0.025590630248188972, -0.1147012859582901, 0.020307308062911034, 0.07316857576370239, 0.06547442823648453, -0.019815592095255852, 0.03421754017472267, -0.019079148769378662, -0.02613246813416481, -0.030579200014472008, -0.03828442841768265, -0.016697773709893227, -0.03318019583821297, -0.020791074261069298, 0.1328766942024231, -0.04775552079081535, -0.005718817934393883, -0.0304581169039011, -0.04901965707540512, 0.03775937482714653, -0.041966985911130905, -0.08789370954036713, 0.11746183782815933, -0.029357852414250374, 0.044099606573581696, 0.0425247997045517, 0.03448193520307541, -0.05378805845975876, -0.0006020151195116341, -0.007093110587447882, 0.0021019766572862864, -0.09924643486738205, -0.06703177839517593, -0.09733420610427856, -0.008587602525949478, -0.05460260808467865, -0.07215285301208496, -0.04514061287045479, -0.032221272587776184, 0.008300178684294224, -0.005162742920219898, -0.08704771846532822, 0.05489450320601463, -0.03639480099081993, -0.05101652070879936, 0.025631248950958252, 0.005656877998262644, 0.06012216582894325, -0.0038106206338852644, 0.07625748217105865, 0.0937727838754654, -0.0497935526072979, 0.005323671270161867, -0.09743550419807434, 0.0041883098892867565, -0.002780949231237173, 0.029947947710752487, -0.008114871568977833, -0.014119799248874187, -0.0015513352118432522, -0.04505177214741707, -0.0039976853877305984, 0.07770960032939911, -0.03961421549320221, 0.0017765599768608809, 0.05725578963756561, -0.025467319414019585, -0.03373131528496742, 0.022353172302246094, 0.0033362186513841152, -0.01253736112266779, 0.009889954701066017, 0.006526282988488674, -0.1148134395480156, -3.6405840120323774e-08, 0.027164049446582794, -0.018357397988438606, 0.02160758152604103, -0.02434268780052662, 0.04738854616880417, 0.019020581617951393, -0.026343934237957, 0.07724855840206146, 0.04845750704407692, 0.10751916468143463, -0.01118631660938263, 0.04914180934429169, -0.02057172730565071, 0.03977476432919502, -0.0019529705168679357, 0.04137705639004707, -0.026276271790266037, -0.06386521458625793, -0.03734597936272621, 0.010190957225859165, -0.07837912440299988, -0.05720999836921692, -0.039682622998952866, 0.015494411811232567, 0.04972021281719208, -0.015133538283407688, -0.048804573714733124, -0.07083676010370255, -0.01657731644809246, 0.07101522386074066, -0.032732024788856506, -0.004967470653355122, -0.010707749053835869, 0.1266176849603653, 0.030955256894230843, -0.04408566653728485, 0.07779843360185623, -0.01581306755542755, -0.027245601639151573, -0.09260498732328415, -0.03529820218682289, -0.07903055101633072, -0.017028067260980606, -0.018280258402228355, -0.06271374225616455, -0.02977006882429123, 0.04319563880562782, -0.07834647595882416, -0.0041397311724722385, 0.0031480647157877684, -0.0007501763175241649, 0.008702501654624939, -0.06334992498159409, 0.0849396213889122, 0.02849622629582882, -0.08555828779935837, -0.010984119959175587, 0.03612067177891731, -0.03861615061759949, 0.014849192462861538, -0.07123641669750214, 0.0171433687210083, 0.020130055025219917, -0.015729278326034546], [-0.005744277499616146, -0.04474586248397827, -0.01983136683702469, -0.010328640230000019, -0.009473559446632862, 0.07153596729040146, -0.002314046025276184, -0.055174946784973145, 0.0369737334549427, -0.09314171969890594, 0.023262131959199905, 0.024199560284614563, -0.022226158529520035, 0.019907092675566673, -0.08287648856639862, -0.04364072158932686, -0.027595732361078262, -0.05709785595536232, -0.10721320658922195, 0.0759730339050293, 0.0031799597200006247, 0.041648391634225845, 0.015704361721873283, 0.08604945242404938, 0.01769198477268219, -0.008488415740430355, -0.02188790589570999, -0.01699741557240486, -0.003710420336574316, 0.008602557703852654, 0.054088421165943146, 0.033232107758522034, 0.022432951256632805, -0.0018611314008012414, 0.036059893667697906, 0.00854748860001564, -0.01451148558408022, 0.029179221019148827, 0.0339449942111969, 0.001170594827271998, 0.021998658776283264, -0.026648683473467827, 0.018104709684848785, 0.022653810679912567, -0.06844744086265564, 0.008794652298092842, 0.03316314145922661, -0.06212510168552399, 0.022795116528868675, -0.014796674251556396, -0.08784516900777817, 0.061109546571969986, -0.011089352890849113, -0.09907408803701401, 0.011259116232395172, -0.019124073907732964, 0.0710822269320488, 0.008929379284381866, 0.05992196127772331, 0.043825261294841766, 0.10584381967782974, -0.04153771698474884, -0.0063564288429915905, 0.06512358039617538, -0.014572808519005775, 0.04783857613801956, -0.02631528675556183, 0.014510483480989933, 0.015341533347964287, 0.004446413367986679, 0.02804817073047161, 0.01609024778008461, 0.015170264057815075, -0.02470937743782997, 0.050171177834272385, -0.040183745324611664, 0.057286337018013, -0.021120231598615646, 0.04645919054746628, -0.016513049602508545, 0.03377511352300644, -0.1717895269393921, -0.002759485272690654, -0.022148897871375084, 0.011895139701664448, 0.036492716521024704, 0.03413190692663193, -0.04569429159164429, 0.04426462948322296, 0.0013313632225617766, -0.1576571762561798, 0.06692157685756683, 0.013305466622114182, -0.010240497067570686, -0.01183993648737669, -0.05081389099359512, -0.06284362822771072, -0.014645927585661411, -0.09660249203443527, 0.047814615070819855, -0.04770598188042641, 0.023749683052301407, 0.11788274347782135, -0.048159871250391006, 0.06257037818431854, 0.003266043495386839, 0.019923800602555275, 0.05841195955872536, 0.0334358885884285, -0.031565528362989426, 0.06947334110736847, 0.018810532987117767, 0.0222032330930233, -0.008341625332832336, 0.04285246878862381, -0.03361951559782028, -0.04134222865104675, -0.008532483130693436, -0.010604018345475197, 0.038670752197504044, 0.07555073499679565, 0.03906544670462608, -0.042430728673934937, 0.02608230523765087, -0.04503445327281952, 0.0070045930333435535, -0.07098536938428879, -2.1837182432454636e-33, 0.008680783212184906, 0.00805612001568079, -0.04082583636045456, -0.058976054191589355, 0.1321856826543808, 0.037747181951999664, -0.051944512873888016, -0.011967025697231293, 0.021844234317541122, -0.019922783598303795, 0.018787480890750885, -0.13883693516254425, -0.04585021734237671, 0.023587437346577644, -0.10076484084129333, 0.016828486695885658, -0.000531485362444073, 0.00830148346722126, -0.08577264100313187, 0.024285603314638138, 0.04659181833267212, 0.10455143451690674, -0.05140254274010658, 0.054159000515937805, -0.046529319137334824, 0.0013736124383285642, 0.06287705153226852, 0.07454164326190948, 0.051418378949165344, 0.009187523275613785, -0.04987669363617897, 0.04758449271321297, 0.04367750883102417, -0.0013862104387953877, 0.0438934750854969, 0.08748571574687958, -0.04505902901291847, -0.03438199684023857, -0.021736450493335724, 0.0019705865997821093, 0.03074643760919571, 0.06623905897140503, 0.016245191916823387, 0.0506802536547184, -0.1587345451116562, -0.014725807122886181, 0.03765315189957619, 0.03706236556172371, 0.06711740046739578, 0.05966126546263695, 0.06401301920413971, -0.003557665506377816, 0.004940161015838385, 0.016763359308242798, 0.014621187932789326, -0.02251642383635044, -0.03843431919813156, 0.0030539638828486204, 0.03762298449873924, -0.0859689712524414, 0.08589009940624237, 0.020131990313529968, -0.0011040023528039455, 0.056868504732847214, -0.03254292160272598, -0.013010195456445217, 0.07536875456571579, -0.006847974378615618, -0.05194783955812454, -0.020775238052010536, -0.07077694684267044, -0.01652507111430168, -0.021761454641819, -0.10210422426462173, -0.014638852328062057, -0.013465858064591885, -0.05491362139582634, -0.06548915803432465, 0.013073079288005829, -0.012859068810939789, 0.02626905031502247, -0.04593777656555176, 0.12165063619613647, -0.10433856397867203, -0.08605098724365234, -0.0500369556248188, 0.052348408848047256, -0.03854529559612274, -0.012806016020476818, -0.05606399103999138, -0.026656437665224075, 0.009012528695166111, 0.06094709783792496, 0.04479885846376419, 0.005476102698594332, -1.2542036158434247e-33, -0.0422329418361187, 0.0505671463906765, 0.11052141338586807, -0.02106795459985733, 0.037735022604465485, -0.003912159241735935, -0.03388756886124611, -0.006894973572343588, 0.08430378139019012, -0.04604576155543327, -0.0338815301656723, -0.06276843696832657, -0.040171366184949875, 0.033086828887462616, 0.02041778713464737, -0.033967696130275726, 0.09915655851364136, -0.09362556785345078, -0.031082438305020332, -0.04261437803506851, -0.04843629524111748, 0.05659855157136917, -0.06497647613286972, -0.00603894330561161, -0.03464064747095108, 0.021410372108221054, 0.09997383505105972, 0.007952896878123283, -0.029299315065145493, -0.05765533447265625, -0.010816244408488274, -0.04731742665171623, -0.08348680287599564, -0.026783235371112823, -0.03333016112446785, 0.10362980514764786, -0.02697029896080494, 0.014119585044682026, -0.07706556469202042, -0.04140106588602066, 0.09079461544752121, -0.05034135282039642, -0.10008745640516281, 0.11853685230016708, -0.018613172695040703, 0.013236897066235542, 0.04635012894868851, 0.0587020143866539, -0.0689026489853859, 0.019580157473683357, -0.04672270640730858, 1.3803337424178608e-05, 0.011202159337699413, 0.004671006929129362, -0.06361010670661926, -0.001514233066700399, 0.008467093110084534, 0.034111011773347855, -0.020589323714375496, -0.0408194363117218, -0.10386865586042404, -0.029684461653232574, 0.03283742815256119, 0.03700976446270943, -0.016220344230532646, 0.06594853848218918, -0.01618640311062336, -0.04592060297727585, -0.03374168649315834, 0.03332152217626572, -0.009793882258236408, 0.05754188820719719, -0.09417517483234406, -0.04283202439546585, -0.04880159720778465, 0.05855196714401245, -0.11727230250835419, -0.029354829341173172, -0.060630641877651215, -0.020434390753507614, 0.03355769068002701, -0.0705522894859314, -0.019253090023994446, 0.07006768882274628, 0.018061142414808273, -0.041958652436733246, 0.07102897018194199, -0.0420880950987339, -0.03531184047460556, 0.06596040725708008, -0.0005896989605389535, -0.08802968263626099, 0.03499593213200569, 0.0007602877449244261, -0.04118196293711662, -3.5232918804695146e-08, -0.021189648658037186, 0.07609663158655167, -0.1264214962720871, -0.07117997854948044, -0.026765987277030945, 0.034937504678964615, 0.030632879585027695, 0.05248020216822624, 0.05577915906906128, 0.12454195320606232, -0.007393121253699064, 0.030501659959554672, 0.03557385876774788, -0.0006643695523962379, -0.011249694973230362, -0.04233591631054878, 0.015215951949357986, -0.04367170110344887, -0.042726099491119385, -0.005677058827131987, 0.003270612331107259, -0.08916187286376953, 0.12606845796108246, 0.029879556968808174, 0.011298609897494316, -0.01172215212136507, -0.04288984090089798, 0.02496878057718277, -0.03603487089276314, 0.0599578395485878, -0.013034476898610592, 0.027028415352106094, -0.06365039944648743, 0.006827245000749826, 0.026983078569173813, -0.058406323194503784, 0.04376708343625069, 0.012271095998585224, 0.009093602187931538, 0.09814915806055069, 0.03289404883980751, 0.03136175870895386, 0.0015495681436732411, 0.011476845480501652, -0.0032976449001580477, -0.003968255594372749, 0.011405752040445805, 0.020680129528045654, 0.06251203268766403, 0.01764196716248989, 0.007060169707983732, 0.06375908851623535, -0.09736718237400055, 0.019010845571756363, 0.010366959497332573, -0.040878552943468094, 0.005493934266269207, 0.0599190816283226, -0.06101316586136818, 0.03559882566332817, -0.035773422569036484, -0.03785732015967369, 0.06339507550001144, -0.07721156626939774], [-0.025563566014170647, 0.010548283345997334, 0.009867009706795216, -0.0039348304271698, 0.008856912143528461, 0.07116883993148804, -0.0030848521273583174, -0.12376861274242401, -0.07309164106845856, -0.016826650127768517, 0.013146872632205486, 0.008498421870172024, -0.011390927247703075, -0.024891436100006104, 0.030804147943854332, 0.01836586184799671, 0.040880654007196426, 0.024981876835227013, -0.02640143223106861, -0.02653423137962818, -0.061799440532922745, -0.0011827930575236678, 0.026252109557390213, 0.0770653709769249, -0.008246621116995811, -0.014915404841303825, -0.03680526465177536, -0.062366362661123276, 0.06431061774492264, -0.017637405544519424, 0.055781058967113495, 0.01217696350067854, 0.01563444919884205, 0.006364778615534306, -0.00708613358438015, 0.08128295838832855, 0.035981133580207825, 0.06131100282073021, -0.045458875596523285, 0.009459782391786575, 0.040914807468652725, -0.024660758674144745, -0.00952213630080223, -0.009900880977511406, 0.023723389953374863, 0.006883723195642233, -0.03151039034128189, -0.06666623055934906, 0.005771234165877104, 0.004930899944156408, 0.018273621797561646, -0.05209417641162872, 0.030560771003365517, -0.07727933675050735, 0.030266404151916504, -0.06549971550703049, 0.06381112337112427, -0.02906712144613266, -0.0007495450554415584, -0.00540980463847518, 0.0318283848464489, 0.017907874658703804, -0.06479999423027039, -0.001328959478996694, -0.016392134130001068, -0.003369878977537155, -0.04222598299384117, 0.1479187160730362, 0.07431517541408539, -0.11616934090852737, 0.04853065311908722, -0.014063555747270584, 0.07604940235614777, 0.029800906777381897, 0.02038685604929924, -0.04635114595293999, -0.006548368372023106, -0.0068949428386986256, -0.08740946650505066, -0.059866394847631454, -0.05273674055933952, -0.04885566234588623, 0.01833750493824482, 0.004401960875838995, 0.007126478478312492, 0.04564105346798897, -0.022191300988197327, 0.0013746843906119466, 0.06303159892559052, -0.01958230510354042, -0.06639553606510162, -0.0017470195889472961, -0.009952431544661522, -0.004333617631345987, -0.003382782218977809, 0.043387021869421005, -0.0016399462474510074, -0.04005187377333641, -0.05471992865204811, 0.11116926372051239, -0.017874617129564285, 0.009816985577344894, 0.04393773525953293, -0.03759858384728432, 0.07175522297620773, -0.05767376348376274, -0.019687006250023842, 0.03979858011007309, 0.036899399012327194, 0.010125614702701569, 0.09335509687662125, 0.038917556405067444, 0.006782745011150837, -0.01799420453608036, 0.05791618302464485, 0.022347984835505486, -0.057342030107975006, 0.0004258768749423325, 0.03047535941004753, 0.002885140711441636, 0.019000209867954254, 0.02661609835922718, -0.06230197101831436, 0.038860075175762177, -0.016558721661567688, -0.007679026108235121, -0.10015194863080978, -1.8167680288401088e-33, 0.06074591726064682, 0.03671269118785858, 0.07231390476226807, 0.0011732609709724784, 0.09666379541158676, 0.03337733820080757, -0.0845983698964119, -0.07555683702230453, 0.06437292695045471, -0.0036022367421537638, 0.04101796820759773, 0.0027593455743044615, 0.06937381625175476, 0.05264226719737053, -0.06642743945121765, -0.14817838370800018, -0.10234726965427399, -0.03748541325330734, -0.06284644454717636, -0.015830587595701218, -0.05027899518609047, -0.03046666458249092, -0.04259118065237999, 0.0844736397266388, 0.050321392714977264, 0.03263217955827713, 0.048709992319345474, 0.030260559171438217, 0.09928113967180252, 0.01427905447781086, 0.00018061183800455183, 0.011760073713958263, 0.035095810890197754, -0.018715860322117805, 0.027275236323475838, 0.04219602793455124, -0.007083259988576174, -0.10390648990869522, -0.017885364592075348, -0.05611247196793556, 0.041263334453105927, 0.02672317624092102, 0.008804735727608204, -0.022430269047617912, -0.10081207752227783, 0.02194296568632126, 0.022824624553322792, -0.03160592541098595, 0.0856134220957756, 0.04345884174108505, 0.025814475491642952, 0.06281063705682755, 0.012456784024834633, -0.035190969705581665, -0.006152467802166939, -0.0898149386048317, -0.018764810636639595, -0.026734769344329834, 0.08929992467164993, -0.08138769119977951, 0.05122092738747597, -0.06005789339542389, 0.022751405835151672, 0.06193703040480614, -0.023846017196774483, -3.331313200760633e-05, 0.0572328045964241, -0.027389567345380783, 0.006539942231029272, -0.037019435316324234, -0.1123298779129982, 0.08239114284515381, -0.10799314826726913, -0.04774811491370201, -0.08479282259941101, -0.0038116590585559607, -0.05174781382083893, -0.05059969425201416, 0.012225469574332237, 0.030660118907690048, -0.007954503409564495, -0.07340943068265915, 0.027988232672214508, -0.01852831244468689, 0.047916095703840256, 0.012066498398780823, 0.015298930928111076, -0.06593937426805496, -0.03295927122235298, -0.07247515767812729, -0.03749983012676239, 0.05966724455356598, 0.008232462219893932, 0.029864689335227013, -0.037857308983802795, -6.8820492263241644e-34, -0.02632126770913601, -0.026234013959765434, 0.1106189712882042, 0.00807187333703041, 0.14580948650836945, -0.034654226154088974, -0.03581859543919563, -0.10107643157243729, 0.09769613295793533, 0.14421440660953522, -0.03343791887164116, -0.028875203803181648, -0.08450879901647568, 0.04573315754532814, 0.004013989120721817, -0.061684370040893555, 0.0017697723815217614, 0.0611417219042778, 0.031208915635943413, 0.005138451233506203, -0.06701785326004028, 0.11258719861507416, -0.046028021723032, -0.07232361286878586, -0.06185150891542435, 0.030448805540800095, -0.02853276953101158, -0.008728750050067902, -0.012516479939222336, -0.026286326348781586, -0.027926908805966377, -0.028868675231933594, -0.10856059193611145, -0.03643106296658516, -0.09469182789325714, 0.08791843801736832, 0.014457867480814457, 0.0065201218239963055, -0.0925406664609909, 0.01107724942266941, 0.08099593222141266, -0.0260142982006073, 0.0005671623512171209, 0.09360112994909286, -0.10360591113567352, 0.05712432041764259, -0.05455020070075989, 0.10657595843076706, -0.06959471851587296, -0.031327828764915466, -0.01327873021364212, -0.04424434155225754, 0.024689175188541412, -0.004941003862768412, -0.03560074791312218, 0.029369276016950607, -0.016160717234015465, -0.011442592367529869, -0.0495416484773159, -0.030896242707967758, -0.08404237031936646, 0.00895982701331377, 0.0033613010309636593, 0.04442040994763374, 0.0259751807898283, 0.010049906559288502, 0.041422829031944275, 0.03809339180588722, -0.07060568779706955, 0.0642981305718422, -0.02974291332066059, 0.07335684448480606, -0.06675034761428833, -0.04434426128864288, -0.0944613367319107, 0.03458613529801369, -0.022690946236252785, 0.014152470976114273, -0.02762020006775856, -0.07897219806909561, 0.07948461174964905, -0.09743140637874603, 0.021711835637688637, 0.01036893855780363, 0.018955936655402184, 0.023861601948738098, -0.0008574986713938415, 0.056847669184207916, -0.038196880370378494, 0.0805910974740982, -0.0194426067173481, -0.017067981883883476, 0.031314361840486526, 0.10718156397342682, 0.015720434486865997, -3.3807165067401e-08, -0.029073575511574745, 0.07576067745685577, -0.12561918795108795, 0.009375114925205708, 0.019898705184459686, -0.008213917724788189, 0.032431647181510925, 0.005954200867563486, 0.014630679041147232, 0.0766720324754715, -0.010383157059550285, 0.0146146509796381, -0.05759662762284279, 0.03160872682929039, 0.02496308460831642, -0.11682642996311188, -0.012617869302630424, 0.04724857583642006, -0.06316177546977997, -0.010333774611353874, 0.018542403355240822, 0.0023245892953127623, 0.07215464860200882, 0.03509387746453285, 0.00926508940756321, 0.0047342656180262566, 0.0005218990845605731, 0.11754397302865982, 0.028590930625796318, 0.021093333140015602, 0.04210856556892395, 0.013887827284634113, -0.019991187378764153, -0.012933504767715931, 0.01607821322977543, -0.046685684472322464, -0.11877520382404327, -0.015435173176229, 0.05431284382939339, 0.03737146407365799, -0.0204648207873106, 0.0621778778731823, 0.06247299537062645, 0.01920808106660843, -0.04988796263933182, -0.005728654097765684, -0.02471850998699665, -0.012977156788110733, 0.012596759013831615, -0.03278785198926926, -0.03172707185149193, -0.004186372738331556, 0.05843330919742584, -0.017659062519669533, 0.059720706194639206, 0.06037526950240135, 0.008899345993995667, 0.03945346921682358, 0.028737682849168777, -0.04975474998354912, 0.042654749006032944, -0.04973238334059715, 0.02603461779654026, -0.029942333698272705], [0.039495550096035004, 0.04289434477686882, 0.03787430375814438, -0.030185310170054436, 0.031224248930811882, 0.04802240803837776, 0.014605781994760036, -0.09618084877729416, -0.039703238755464554, 0.06941196322441101, -0.05416583642363548, 0.024122370406985283, -0.0003284834383521229, -0.03490835055708885, -0.009007995948195457, 0.0021144633647054434, 0.02991606667637825, -0.026919085532426834, -0.04458008334040642, -0.023808671161532402, -0.04637235775589943, -0.04434993118047714, 0.027082836255431175, 0.020516514778137207, -0.04964024946093559, -0.04211392253637314, -0.062416065484285355, -0.04310290515422821, 0.07041151076555252, -0.00867230724543333, 0.04846080392599106, -0.035332512110471725, -0.0060841296799480915, 0.012216406874358654, 0.043125513941049576, 0.04511098191142082, 0.02501858025789261, -0.017073363065719604, 0.005845626816153526, 0.026029177010059357, 0.0639149397611618, -0.015960028395056725, -0.017602691426873207, -0.01546928659081459, 0.051991160959005356, 0.05890630930662155, -0.04790094122290611, -0.03870946913957596, -0.008153018541634083, 0.0364566333591938, 0.08538848161697388, -0.00022468544193543494, 0.07072886824607849, -0.00975052360445261, 0.018205814063549042, -0.05400700867176056, 0.046370599418878555, -0.09245152771472931, -0.05789908766746521, 0.023587631061673164, -0.02782578393816948, -0.03905867412686348, -0.10297435522079468, 0.00540714617818594, -0.041671667248010635, -0.0228181853890419, -0.03237660974264145, 0.08149286359548569, 0.05334151163697243, -0.0420251302421093, 0.09425540268421173, 0.031540077179670334, 0.04743945971131325, -0.04094110429286957, 0.00753384456038475, 0.001358712906949222, 0.005176336504518986, -0.003910037688910961, -0.04464120790362358, -0.0058723026886582375, -0.059340909123420715, 0.010795376263558865, 0.05287826806306839, -0.031282685697078705, -0.011776833795011044, 0.03718644753098488, -0.030649079009890556, -0.02064734697341919, 0.01979336515069008, 0.03416309878230095, -0.060950152575969696, 0.00828886404633522, 0.05387673154473305, -0.057624686509370804, -0.03267835080623627, 0.10335300117731094, -0.00445189606398344, 0.026129284873604774, 0.03910534083843231, 0.09865066409111023, -0.031679920852184296, 0.052432622760534286, 0.011055848561227322, -0.05436934158205986, 0.02248835749924183, -0.005766310263425112, -0.03563128411769867, 0.0038403624203056097, 0.022458089515566826, -0.05202922970056534, 0.02576076239347458, 0.01173953153192997, 0.05828038230538368, 0.029809243977069855, 0.020694013684988022, 0.08589604496955872, -0.01497678179293871, 0.014256341382861137, -0.05335525795817375, -0.06729181110858917, 0.05901172012090683, 0.05063299089670181, -0.011758851818740368, 0.03400145471096039, -0.05101458355784416, 0.06646664440631866, -0.026187079027295113, -1.0022091266023085e-33, -0.026021821424365044, -0.06286962330341339, 0.031195299699902534, 0.01974906027317047, 0.11046240478754044, 0.029637403786182404, 0.00741092674434185, -0.0698186606168747, 0.07347846031188965, 0.03707687556743622, 0.019938243553042412, -0.052332937717437744, 0.05241155996918678, 0.0036722903605550528, -0.06167251244187355, -0.07982844114303589, -0.05756627395749092, 0.02045273222029209, -0.14493176341056824, -0.058931123465299606, -0.01353834941983223, 0.013135096989572048, -0.02585185319185257, 0.07269158959388733, 0.03857738524675369, 0.03953986614942551, 0.045905474573373795, 0.07813289016485214, 0.040879830718040466, 0.024651018902659416, -0.010508733801543713, 0.010983881540596485, -0.025935379788279533, 0.04871733859181404, 0.007268705405294895, 0.014163536950945854, -0.07811195403337479, -0.05661497637629509, 0.05061433091759682, -0.029170598834753036, -0.03594457730650902, 0.043518178164958954, -0.061816491186618805, -0.026303265243768692, -0.11763951927423477, 0.04260550066828728, 0.049033939838409424, -0.014455527998507023, 0.11266939342021942, 0.04073513299226761, 0.02286793291568756, 0.03572065383195877, 0.031166857108473778, -0.05862921476364136, -0.017140202224254608, -0.07138200849294662, 0.04740498960018158, -0.023375604301691055, 0.10594066232442856, -0.04836345836520195, 0.042831603437662125, -0.03436746075749397, -0.01540842093527317, 0.11322095990180969, -0.04629617929458618, 0.002415345050394535, 0.03456791862845421, -0.047378357499837875, 0.059849828481674194, -0.030876094475388527, 0.03049658052623272, 0.10075835138559341, -0.05088328942656517, -0.02463081106543541, -0.060662806034088135, 0.00012828121543861926, -0.015848221257328987, -4.0747276216279715e-05, 0.032309528440237045, 0.08042049407958984, 0.008135497570037842, -0.03362911939620972, 0.05030330270528793, -0.0012350811157375574, 0.027105271816253662, -0.021087676286697388, -0.03842208534479141, -0.0075080255046486855, -0.013119015842676163, -0.09181729704141617, -0.025549205020070076, -0.01699906587600708, 0.031221851706504822, 0.00402522087097168, -0.07093793153762817, -1.5469037295790898e-33, 0.006896402686834335, 0.0002441550022922456, 0.014977178536355495, -0.03466658294200897, 0.09527610242366791, 0.0046495008282363415, -0.04541582986712456, -0.10350612550973892, 0.09195657819509506, 0.0711274966597557, -0.06881950795650482, 0.05083583667874336, -0.044846173375844955, 0.016737408936023712, 0.04606189206242561, -0.03346365690231323, 0.023651864379644394, 0.006559065077453852, -0.043516431003808975, -0.008344996720552444, -0.05273311957716942, 0.08648272603750229, 0.010765019804239273, -0.03903568536043167, -0.045904338359832764, -0.006320612039417028, -0.03953125327825546, -0.035860173404216766, -0.01346184965223074, 0.014593163505196571, -0.06104879826307297, -0.09945995360612869, -0.11575695127248764, 0.045807935297489166, -0.016326304525136948, -0.01700933836400509, 0.05493450164794922, 0.029037540778517723, -0.04181581363081932, 0.03879934549331665, 0.09861265122890472, 0.0029604164883494377, 0.03492702543735504, 0.10703269392251968, -0.014370101504027843, 0.022891024127602577, -0.0996619388461113, 0.01425321027636528, -0.00197837152518332, -0.04806207865476608, -0.1532447189092636, -0.02993735298514366, -0.024736300110816956, 0.01102029625326395, -0.01610177382826805, 0.0784834772348404, 0.04397565498948097, -0.05800039693713188, 0.008604885078966618, -0.025992251932621002, -0.059393130242824554, 0.04163021966814995, 0.028433188796043396, 0.07849002629518509, -0.0032076884526759386, 0.005528919864445925, -0.012892019003629684, 0.006758307106792927, -0.0663829892873764, 0.025468725711107254, -0.10253340005874634, 0.0027655295561999083, -0.050005342811346054, -0.019369667395949364, -0.08715559542179108, 0.07551047205924988, -0.04563107341527939, 0.06116028502583504, 0.00957914162427187, -0.04431573674082756, 0.015719395130872726, -0.08526861667633057, 0.010140356607735157, 0.0027985344640910625, 0.04608023539185524, 0.012517851777374744, 0.051433246582746506, -0.0478990338742733, -0.05987263098359108, 0.1285896748304367, -0.04581243917346001, -0.0662776306271553, 0.10665227472782135, 0.05681237578392029, 0.008884763345122337, -3.6109621959212745e-08, -0.026922952383756638, 0.06634246557950974, -0.08543635904788971, -0.027424687519669533, 0.01962433010339737, -0.12603703141212463, -0.05167433246970177, 0.10435835272073746, -0.029527291655540466, 0.1061888039112091, 0.058950990438461304, 0.013972424902021885, -0.06038881838321686, 0.0036497702822089195, -0.010058680549263954, -0.1083984300494194, -0.04600970819592476, 0.0036460240371525288, -0.12160736322402954, -0.036829013377428055, -0.008832951076328754, -0.047751326113939285, 0.0268250759691, 0.04779320955276489, 0.042968712747097015, 0.02338133379817009, 0.01632189378142357, 0.14070072770118713, 0.04611790552735329, -0.032964058220386505, -0.0002917724777944386, 0.038388121873140335, -0.0722276121377945, -0.014915342442691326, 0.11311982572078705, 0.0015205953968688846, -0.08573971688747406, -0.030508188530802727, 0.04918895289301872, 0.05370636656880379, -0.10319358855485916, 0.023058220744132996, 0.013752900995314121, 0.04864161089062691, 0.056720051914453506, 0.038004957139492035, -0.0904783234000206, 0.007521758321672678, -0.03252239525318146, -0.0679049864411354, -0.03058622218668461, -0.05282403156161308, 0.006055989768356085, 0.02682417817413807, 0.024528829380869865, 0.03670525550842285, 0.03142199665307999, -0.007089476566761732, 0.07954361289739609, -0.06976926326751709, 0.037456534802913666, 0.02373237907886505, 0.033417873084545135, -0.035689130425453186]]\n",
            "6\n"
          ]
        }
      ],
      "source": [
        "print(embedding_list)\n",
        "print(len(embedding_list))"
      ]
    },
    {
      "cell_type": "code",
      "execution_count": null,
      "metadata": {
        "colab": {
          "base_uri": "https://localhost:8080/"
        },
        "id": "ZxK-FLWA2vkk",
        "outputId": "12a580ae-e28e-4577-93c8-4e458f0467b1"
      },
      "outputs": [
        {
          "output_type": "stream",
          "name": "stdout",
          "text": [
            "{'id': '0', 'values': [-0.05193227902054787, 0.014974727295339108, 0.06725891679525375, -0.013096134178340435, -0.011082282289862633, 0.02363680861890316, -0.03374293074011803, -0.01082273107022047, -0.07074625045061111, -0.10477222502231598, 0.046646688133478165, 0.10294545441865921, 0.04354002699255943, 0.05900841951370239, -0.0692569762468338, -0.024105796590447426, -0.0005542692961171269, -0.05520312488079071, -0.04703099653124809, -0.014311602339148521, -0.007753225043416023, -0.043173160403966904, -0.03892286866903305, 0.03640507161617279, 0.023123161867260933, 0.05235898494720459, 0.05489184707403183, -0.06009134277701378, -0.07424572110176086, 0.0206332765519619, -0.0745956152677536, 0.01524308416992426, -0.024404127150774002, 0.004960023798048496, 0.02376175858080387, 0.008372113108634949, 0.05536484718322754, 0.0473916232585907, 0.0551232174038887, -0.0064967041835188866, 0.002721871482208371, -0.11362801492214203, 0.03113035298883915, -0.0457809679210186, -0.04857645183801651, 0.018446246162056923, 0.013947821222245693, -0.04314131662249565, -0.018152298405766487, 0.03394315764307976, -0.06069755181670189, 0.026560336351394653, -0.04054293408989906, -0.03327980265021324, 0.14174266159534454, 0.018952541053295135, 0.03706297278404236, 0.0056897541508078575, -0.000497435568831861, -0.02481446973979473, -0.030632730573415756, -0.09252799302339554, 0.016898812726140022, 0.00574792455881834, 0.07593677192926407, 0.01929946057498455, -0.08430460840463638, 0.08488839864730835, -0.09804808348417282, -0.030182013288140297, -0.02807280607521534, 0.02358895353972912, -0.009652998298406601, 0.008922107517719269, 0.056104641407728195, -0.014534040354192257, 0.06526292115449905, -0.0012387665919959545, 0.03761718049645424, 0.045104656368494034, -0.07090868055820465, -0.058366671204566956, -0.03650669381022453, -0.0126221664249897, -0.055969759821891785, -0.09795070439577103, -0.004067747853696346, -0.07263635843992233, 0.04318346828222275, 0.025508582592010498, -0.13114802539348602, 0.07071199268102646, -0.03233499079942703, -0.07202906906604767, -0.006173873785883188, -0.015781069174408913, -0.021416107192635536, -0.029311547055840492, -0.10642165690660477, 0.022972792387008667, 0.012361702509224415, 0.055622946470975876, 0.07447637617588043, -0.027095632627606392, 0.16236266493797302, 0.06509730964899063, 0.0665372759103775, 0.015242010354995728, 0.045825980603694916, -0.017264533787965775, 0.05328350141644478, 0.011442692950367928, -0.004834755323827267, -0.0342801995575428, -0.01152085606008768, -0.03068179078400135, 0.029755527153611183, -0.02665104530751705, -0.05235190689563751, -0.0383828803896904, 0.047654639929533005, 0.10581722855567932, -0.047534164041280746, -0.010429591871798038, -0.053625911474227905, -0.012026511132717133, 0.05236191675066948, 9.945778723780679e-34, 0.00845834705978632, -0.06008855253458023, 0.030382314696907997, 0.0633789449930191, 0.11593642085790634, 0.04663357511162758, -0.08809168636798859, 0.07049921154975891, -0.049921855330467224, -0.04614802822470665, -0.0811522901058197, -0.0390896312892437, 0.038885388523340225, -0.02914244867861271, -0.025784341618418694, 0.0034281222615391016, -0.03614988550543785, 0.06080480292439461, -0.004799698945134878, 0.005917041562497616, 0.02081374265253544, 0.005515703931450844, -0.03514598682522774, -0.005055886693298817, -0.10873077064752579, -0.001085143769159913, 0.05926886200904846, -0.015016838908195496, 0.1102232038974762, 0.015412375330924988, 0.02999221533536911, 0.08105877041816711, 0.06554478406906128, -0.0033081902656704187, -0.046255648136138916, 0.015841420739889145, 0.027916375547647476, -0.03387818858027458, -0.004415692295879126, -0.008770531043410301, -0.0452590137720108, 0.049748506397008896, 0.06055620312690735, -0.03249840438365936, -0.15915873646736145, 0.08182573318481445, -0.01995544694364071, -0.05323764309287071, -0.00927761197090149, 0.01799832470715046, 0.015678193420171738, -0.053548865020275116, -0.029893921688199043, 0.03464233875274658, -0.02379346825182438, 0.017917700111865997, 0.04269028455018997, -0.06537362933158875, 0.056201886385679245, 0.01407074835151434, 0.044740259647369385, 0.05458911880850792, 0.0018233467126265168, -0.011765353381633759, 0.043315306305885315, 0.034060247242450714, 0.033621642738580704, -0.0015919085126370192, 0.05797489732503891, -0.01560290064662695, -0.0143459253013134, 0.0767785981297493, -0.007685828488320112, -0.06801724433898926, -0.0012475517578423023, 0.08397740870714188, -0.01625889167189598, -0.06493539363145828, -0.06517937034368515, -0.02220640331506729, 0.07456349581480026, -0.04235178977251053, 0.03812241554260254, -0.10325223207473755, -0.03912227973341942, 0.016384568065404892, -0.013911441899836063, -0.12134533375501633, -0.01608443446457386, 0.0997823104262352, -0.03682202845811844, 0.00227770465426147, 0.08432824909687042, 0.04152609407901764, 0.04868197441101074, -2.5234790896453066e-33, -0.02419579215347767, 0.023031681776046753, 0.01775987632572651, -0.049274783581495285, 0.10066643357276917, -0.056845445185899734, -0.06747155636548996, -0.020326631143689156, -0.007842904888093472, 0.05996664613485336, -0.06141280382871628, -0.06890898942947388, 0.042978234589099884, 0.03215652331709862, 0.05024752393364906, 0.04574529454112053, 0.09957922250032425, -0.0693754255771637, -0.01979232393205166, -0.033212482929229736, 0.037923380732536316, -0.02457563765347004, -0.04253944009542465, 0.10299189388751984, 0.023615794256329536, 0.0451347641646862, -0.019363556057214737, -0.04087302088737488, -0.04149797186255455, -0.01668267324566841, -0.0687074139714241, 0.0005885926657356322, 0.026003912091255188, 0.0016830196836963296, -0.08207567036151886, 0.05337357148528099, -0.14252212643623352, -0.07291720807552338, -0.01800893247127533, -0.09612375497817993, 0.0967041626572609, -0.09767625480890274, -0.004520756658166647, 0.009084029123187065, -0.03550871089100838, 0.009035072289407253, 0.03310219198465347, -0.08043748140335083, -0.04222314804792404, -0.03862716257572174, 0.021116944029927254, -0.030571598559617996, -0.039848294109106064, 0.03988494351506233, -0.03637310490012169, -0.06183338537812233, 0.039129383862018585, 0.03778117522597313, 0.11294224858283997, -0.015728024765849113, -0.002693933667615056, -0.09295216202735901, 0.01470394991338253, 0.0735996812582016, -0.024364739656448364, -0.006381168030202389, 0.028831711038947105, -0.029079008847475052, -0.03197461739182472, 0.033690351992845535, -0.04374401643872261, 0.0698729008436203, -0.01728631928563118, 0.021529117599129677, 0.0534503273665905, 0.05946808308362961, -0.05884113535284996, -0.06167595833539963, -0.06927776336669922, 0.012199590913951397, 0.015444808639585972, 0.01100186537951231, 0.04699956998229027, 0.057496219873428345, -0.0008904970600269735, 0.02335801161825657, 0.06806132197380066, 0.07862859964370728, -0.07163722068071365, 0.06817671656608582, -0.06133980676531792, 0.010497868992388248, 0.006558912340551615, -0.014712913893163204, 0.045894112437963486, -4.576239831521889e-08, -0.004849987104535103, -0.05273091793060303, -0.09335147589445114, -0.07063861191272736, -0.05093610659241676, 0.01307203620672226, 0.0529777891933918, 0.056117989122867584, 0.017652731388807297, 0.08169430494308472, -0.061120107769966125, 0.006116942502558231, 0.01034950278699398, 0.05998411029577255, 0.006112554110586643, -0.022937797009944916, 0.07554617524147034, -0.0404280349612236, 0.0323459692299366, 0.02592891827225685, -0.024484733119606972, -0.016978900879621506, 0.025324489921331406, 0.04677481949329376, -0.01065877079963684, 0.00865262746810913, 0.006978070363402367, 0.06476894021034241, 0.030227508395910263, 0.027637578547000885, -0.050068505108356476, 0.013260257430374622, -0.07265442609786987, -0.035580143332481384, 0.007052937056869268, -0.042095039039850235, 0.0031010014936327934, -0.05331893637776375, 0.022876597940921783, 0.045840103179216385, -0.016170168295502663, 0.005817850586026907, -0.0034024568740278482, 0.020766718313097954, 0.052363310009241104, 0.032643888145685196, 0.06966814398765564, -0.047161996364593506, -0.012736136093735695, 0.010260097682476044, -0.013713442720472813, -0.03421671688556671, 0.00819415133446455, -0.07400926202535629, -0.010451730340719223, -0.07065711915493011, -0.05244188755750656, 0.04097842797636986, 0.03597292676568031, -0.027150798588991165, 0.040053416043519974, 0.11890886723995209, -0.003967389464378357, 0.052837274968624115], 'metadata': {'text': \"This is the story of Bill and Katie, who are the best friends. Last year Bill was working in a big company, but he wasn't very happy with his boss. And Katie, she was really bored with working as a waitress. She had to take a long way to work. Best friend\"}}\n"
          ]
        }
      ],
      "source": [
        "data = []\n",
        "for i, text in enumerate(text_chunks):\n",
        "  data.append({\n",
        "      \"id\":str(i),\n",
        "      \"values\": embedding_list[i],\n",
        "      \"metadata\" : {\"text\" : text}\n",
        "  })\n",
        "\n",
        "print(data[0])\n",
        "# Upload data to Pinecone\n",
        "# index.upsert(data)"
      ]
    },
    {
      "cell_type": "code",
      "execution_count": null,
      "metadata": {
        "id": "kF_ZfTe4CCxz"
      },
      "outputs": [],
      "source": [
        "!pip install --upgrade --quiet  langchain-pinecone\n",
        "from langchain_pinecone import PineconeVectorStore\n",
        "\n"
      ]
    },
    {
      "cell_type": "code",
      "execution_count": null,
      "metadata": {
        "colab": {
          "base_uri": "https://localhost:8080/"
        },
        "id": "VMf5ZpfFc0K-",
        "outputId": "3ea19c02-a1e1-4697-c69b-b8ec9777b186"
      },
      "outputs": [
        {
          "output_type": "execute_result",
          "data": {
            "text/plain": [
              "{'matches': [{'id': '0', 'score': 0.581930816, 'values': []},\n",
              "             {'id': '3', 'score': 0.396250963, 'values': []},\n",
              "             {'id': '1', 'score': 0.270754218, 'values': []}],\n",
              " 'namespace': '',\n",
              " 'usage': {'read_units': 5}}"
            ]
          },
          "metadata": {},
          "execution_count": 24
        }
      ],
      "source": [
        "index.query(\n",
        "    vector=embeddings.embed_query(\"Bill and Katie\"),\n",
        "    top_k=3\n",
        ")"
      ]
    },
    {
      "cell_type": "code",
      "execution_count": null,
      "metadata": {
        "id": "RVJ9nACf8Tsg"
      },
      "outputs": [],
      "source": [
        "from langchain.vectorstores import Pinecone\n",
        "\n",
        "text_field = \"text\"\n",
        "\n",
        "vectorstore = Pinecone.from_existing_index(\n",
        "    index_name, embeddings, text_field\n",
        ")\n"
      ]
    },
    {
      "cell_type": "code",
      "execution_count": null,
      "metadata": {
        "id": "B6zba8JHCmvl"
      },
      "outputs": [],
      "source": [
        "docsearch = PineconeVectorStore.from_existing_index(embedding=embeddings, index_name=index_name)"
      ]
    },
    {
      "cell_type": "code",
      "execution_count": null,
      "metadata": {
        "colab": {
          "base_uri": "https://localhost:8080/"
        },
        "id": "607Z61F490hZ",
        "outputId": "a14c7d2a-a6ba-48ac-9fc8-9bca3ead735f"
      },
      "outputs": [
        {
          "output_type": "stream",
          "name": "stdout",
          "text": [
            "<class 'langchain_community.vectorstores.pinecone.Pinecone'>\n",
            "<langchain_community.vectorstores.pinecone.Pinecone object at 0x78c7a1e45600>\n",
            "<class 'langchain_pinecone.vectorstores.PineconeVectorStore'>\n",
            "<langchain_pinecone.vectorstores.PineconeVectorStore object at 0x78c7aff43ee0>\n"
          ]
        }
      ],
      "source": [
        "print(type(vectorstore))\n",
        "print(vectorstore)\n",
        "print(type(docsearch))\n",
        "print(docsearch)\n"
      ]
    },
    {
      "cell_type": "code",
      "execution_count": null,
      "metadata": {
        "colab": {
          "base_uri": "https://localhost:8080/"
        },
        "id": "OaQKJkvM9m1j",
        "outputId": "a4957216-ea41-4404-c5d0-365931c63985"
      },
      "outputs": [
        {
          "output_type": "stream",
          "name": "stdout",
          "text": [
            "This is the story of Bill and Katie, who are the best friends. Last year Bill was working in a big company, but he wasn't very happy with his boss. And Katie, she was really bored with working as a waitress. She had to take a long way to work. Best friend\n",
            "a long way to work. Best friend Julie and they decided to make a killer explainer video together. They started looking for actors to pick the right one. Now that they have the character, they need the right setting. The website is for their coffee shop,\n"
          ]
        }
      ],
      "source": [
        "query = \"What is the story about ?\"\n",
        "res = docsearch.similarity_search(query,k=2)\n",
        "for r in res:\n",
        "  print(r.page_content)\n"
      ]
    },
    {
      "cell_type": "code",
      "execution_count": null,
      "metadata": {
        "id": "iHmGRzQDAygj"
      },
      "outputs": [],
      "source": [
        "from huggingface_hub import notebook_login\n",
        "import torch"
      ]
    },
    {
      "cell_type": "code",
      "execution_count": null,
      "metadata": {
        "colab": {
          "base_uri": "https://localhost:8080/",
          "height": 145,
          "referenced_widgets": [
            "464e20a152c74ce5b0dee9e0533e5d67",
            "49d4e494846345cc8e6c9aec9a5d2973",
            "cb37c4d494bf4063a014f7643968f7b0",
            "c0f8f1dc0a654c84904ae5f5bcc061c0",
            "0a23dfbcb2a645379a782e4129f017cb",
            "2b6d5051ab1147959d90149d2f09c4da",
            "b0beeb6694054b43a1ab6cf636f1d272",
            "5b225b3be0fd44aba9d4e82f20fcabbb",
            "cee6f83a079c47968ef1b871614e1f1a",
            "e889feeb8d234ce1a6a3d5118b0fb9d9",
            "bee15e46d35b4ad2a2b83b9a01d9e7a8",
            "8d4bc48d2bcb4d528a04d2b4824e8f74",
            "9ac2ffb77cb74fa2adb8a231422721df",
            "7e661d6a05bd4f7e833440d1fcd5f446",
            "ea1e1a401c0a4921ba0f3165228957c5",
            "1d02dec244c845779d9fd03a99f17c96",
            "349f0ccd00db410d90267b045356c0f8",
            "62d19118b7e2465e9a72731b704f30b4",
            "150f3ac4796549adb33560303dcb832a",
            "427c91930eea4f50abee58ece7091caf",
            "80c92eda1d224d2b9eece6a980c564bf",
            "f7d5103aac6142f1946ad0de13723e2f",
            "c8dc2e27c71042ec8a3b4cbd421ea2d1",
            "2f7d3c0c95844e369278a107ba52ffab",
            "0fa3fd51d503451baf968db54363ea9c",
            "9740e3c1be424c2abf195865ee8432b9",
            "bf3097067cbc4a918f3feabe6a86e50b",
            "2b93e9511dd24add97404dd4a060be31",
            "2d3d3245ea1542bc85224effd801cb40",
            "d63f9a719c304cb3b05287a3eed7b2b9",
            "dd219ac101024440b2477a074e6b26ec",
            "c3baab73ee604df88f2281b319916599"
          ]
        },
        "id": "Jh8srsIRAytp",
        "outputId": "edbeedc6-3d5d-455b-b151-effbbceca170"
      },
      "outputs": [
        {
          "output_type": "display_data",
          "data": {
            "text/plain": [
              "VBox(children=(HTML(value='<center> <img\\nsrc=https://huggingface.co/front/assets/huggingface_logo-noborder.sv…"
            ],
            "application/vnd.jupyter.widget-view+json": {
              "version_major": 2,
              "version_minor": 0,
              "model_id": "464e20a152c74ce5b0dee9e0533e5d67"
            }
          },
          "metadata": {}
        }
      ],
      "source": [
        "notebook_login()"
      ]
    },
    {
      "cell_type": "code",
      "execution_count": null,
      "metadata": {
        "id": "LLqN2e2oAy2y"
      },
      "outputs": [],
      "source": [
        "tokenizer = AutoTokenizer.from_pretrained(\"meta-llama/Llama-2-7b-chat-hf\", use_auth_token=True)"
      ]
    },
    {
      "cell_type": "code",
      "execution_count": null,
      "metadata": {
        "colab": {
          "base_uri": "https://localhost:8080/",
          "height": 123,
          "referenced_widgets": [
            "20604e0688494d2fa1c39102478587ea",
            "7eca99ac38fe457fbcc68a884949dfbb",
            "a1a0c56fdb5444f987347c0b48cf4678",
            "29b8b8f8b2494681bb379daa1ad87808",
            "36fb23af4bb5442f9c4f4e098df51ee6",
            "73119533e348454b90938ba7e238d630",
            "6488d9551d7c441b82787b242ec8d64b",
            "cbe21d401e1b459f953b1cf7cb5cc0ac",
            "13ca479b6a634c4d9a960caa8a30abdf",
            "aad9aa8910a94d68bfc0236ec456889a",
            "a40a57283d62450393b3d65d8ee54a69"
          ]
        },
        "id": "ftvOf4HTCL_U",
        "outputId": "ec3c6353-d2a0-435c-ff2d-ad56b250a91d"
      },
      "outputs": [
        {
          "output_type": "stream",
          "name": "stderr",
          "text": [
            "/usr/local/lib/python3.10/dist-packages/transformers/models/auto/auto_factory.py:466: FutureWarning: The `use_auth_token` argument is deprecated and will be removed in v5 of Transformers. Please use `token` instead.\n",
            "  warnings.warn(\n",
            "The `load_in_4bit` and `load_in_8bit` arguments are deprecated and will be removed in the future versions. Please, pass a `BitsAndBytesConfig` object in `quantization_config` argument instead.\n"
          ]
        },
        {
          "output_type": "display_data",
          "data": {
            "text/plain": [
              "Loading checkpoint shards:   0%|          | 0/2 [00:00<?, ?it/s]"
            ],
            "application/vnd.jupyter.widget-view+json": {
              "version_major": 2,
              "version_minor": 0,
              "model_id": "20604e0688494d2fa1c39102478587ea"
            }
          },
          "metadata": {}
        }
      ],
      "source": [
        "model = AutoModelForCausalLM.from_pretrained(\"meta-llama/Llama-2-7b-chat-hf\",\n",
        "                                             device_map='auto',\n",
        "                                             torch_dtype=torch.float16,\n",
        "                                             use_auth_token=True,\n",
        "                                             load_in_8bit=True\n",
        "                                             )"
      ]
    },
    {
      "cell_type": "code",
      "execution_count": null,
      "metadata": {
        "id": "ad4r41oOCMJo"
      },
      "outputs": [],
      "source": [
        "pipe = pipeline(\"text-generation\",\n",
        "                model=model,\n",
        "                tokenizer= tokenizer,\n",
        "                torch_dtype=torch.bfloat16,\n",
        "                device_map=\"auto\",\n",
        "                max_new_tokens = 512,\n",
        "                do_sample=True,\n",
        "                top_k=30,\n",
        "                num_return_sequences=1,\n",
        "                eos_token_id=tokenizer.eos_token_id\n",
        "                )"
      ]
    },
    {
      "cell_type": "code",
      "execution_count": null,
      "metadata": {
        "id": "XNeofS5eCad3"
      },
      "outputs": [],
      "source": [
        "llm=HuggingFacePipeline(pipeline=pipe, model_kwargs={'temperature':0.1})"
      ]
    },
    {
      "cell_type": "code",
      "execution_count": null,
      "metadata": {
        "id": "UgzQ72lMCosq"
      },
      "outputs": [],
      "source": [
        "SYSTEM_PROMPT =\"\"\"Use the following pieces of context to answer the question at the end.\n",
        "If you don't know the answer, just say that you don't know, don't try to make up an answer about the context. If the question is in general go ahead and answer it.\"\"\"\n"
      ]
    },
    {
      "cell_type": "code",
      "execution_count": null,
      "metadata": {
        "id": "yPOdt6puCowy"
      },
      "outputs": [],
      "source": [
        "B_INST, E_INST = \"[INST]\", \"[/INST]\"\n",
        "B_SYS, E_SYS = \"<<SYS>>\\n\", \"\\n<</SYS>>\\n\\n\""
      ]
    },
    {
      "cell_type": "code",
      "execution_count": null,
      "metadata": {
        "id": "Js0dCdp5CozM"
      },
      "outputs": [],
      "source": [
        "SYSTEM_PROMPT = B_SYS + SYSTEM_PROMPT + E_SYS"
      ]
    },
    {
      "cell_type": "code",
      "execution_count": null,
      "metadata": {
        "id": "q9NPm1xiCo3L"
      },
      "outputs": [],
      "source": [
        "instruction = \"\"\"\n",
        "{context}\n",
        "\n",
        "Question: {question}\n",
        "\"\"\""
      ]
    },
    {
      "cell_type": "code",
      "execution_count": null,
      "metadata": {
        "id": "q7n6wCx2Co6I"
      },
      "outputs": [],
      "source": [
        "template = B_INST + SYSTEM_PROMPT + instruction + E_INST"
      ]
    },
    {
      "cell_type": "code",
      "execution_count": null,
      "metadata": {
        "colab": {
          "base_uri": "https://localhost:8080/",
          "height": 54
        },
        "id": "_lfzET-sCo9L",
        "outputId": "0319c049-4b1e-4152-aa79-182825633ee8"
      },
      "outputs": [
        {
          "output_type": "execute_result",
          "data": {
            "text/plain": [
              "\"[INST]<<SYS>>\\nUse the following pieces of context to answer the question at the end.\\nIf you don't know the answer, just say that you don't know, don't try to make up an answer about the context. If the question is in general go ahead and answer it.\\n<</SYS>>\\n\\n\\n{context}\\n\\nQuestion: {question}\\n[/INST]\""
            ],
            "application/vnd.google.colaboratory.intrinsic+json": {
              "type": "string"
            }
          },
          "metadata": {},
          "execution_count": 42
        }
      ],
      "source": [
        "template"
      ]
    },
    {
      "cell_type": "code",
      "execution_count": null,
      "metadata": {
        "id": "4uMryX8KDJRj"
      },
      "outputs": [],
      "source": [
        "prompt = PromptTemplate(template=template, input_variables=[\"context\", \"question\"])"
      ]
    },
    {
      "cell_type": "code",
      "execution_count": null,
      "metadata": {
        "id": "erW8qBFSDJZ9"
      },
      "outputs": [],
      "source": [
        "qa_chain = RetrievalQA.from_chain_type(\n",
        "    llm=llm,\n",
        "    chain_type=\"stuff\",\n",
        "    retriever=docsearch.as_retriever(search_kwargs={\"k\": 4}),\n",
        "    return_source_documents=True,\n",
        "    chain_type_kwargs={\"prompt\": prompt},\n",
        ")"
      ]
    },
    {
      "cell_type": "code",
      "execution_count": null,
      "metadata": {
        "id": "TWdFoMrjDaAv",
        "colab": {
          "base_uri": "https://localhost:8080/"
        },
        "outputId": "68322833-0373-4a48-f20c-26f76750c6fb"
      },
      "outputs": [
        {
          "output_type": "stream",
          "name": "stderr",
          "text": [
            "/usr/local/lib/python3.10/dist-packages/langchain_core/_api/deprecation.py:117: LangChainDeprecationWarning: The function `__call__` was deprecated in LangChain 0.1.0 and will be removed in 0.2.0. Use invoke instead.\n",
            "  warn_deprecated(\n"
          ]
        }
      ],
      "source": [
        "result = qa_chain(\"What is the story about?\")"
      ]
    },
    {
      "cell_type": "code",
      "execution_count": null,
      "metadata": {
        "colab": {
          "base_uri": "https://localhost:8080/"
        },
        "id": "R3y37vKvDfRv",
        "outputId": "bfbd21b9-8788-4d5b-ce6a-06ddcf2849d7"
      },
      "outputs": [
        {
          "output_type": "execute_result",
          "data": {
            "text/plain": [
              "{'query': 'What is the story about?',\n",
              " 'result': \"[INST]<<SYS>>\\nUse the following pieces of context to answer the question at the end.\\nIf you don't know the answer, just say that you don't know, don't try to make up an answer about the context. If the question is in general go ahead and answer it.\\n<</SYS>>\\n\\n\\nThis is the story of Bill and Katie, who are the best friends. Last year Bill was working in a big company, but he wasn't very happy with his boss. And Katie, she was really bored with working as a waitress. She had to take a long way to work. Best friend\\n\\na long way to work. Best friend Julie and they decided to make a killer explainer video together. They started looking for actors to pick the right one. Now that they have the character, they need the right setting. The website is for their coffee shop,\\n\\nand Julia doomed. They run away and forget about their video. So this is Bill. He belongs to the Stone Cutters Club, a group of business people who do good for the community. Now every year, the stone cutters put on a dinner and charity dance for people\\n\\nis for their coffee shop, so they go into the city. As they walk through the streets, they see the perfect little coffee shop to film. Oh no, there's a problem. Zombies invaded the city and the police can't stop them. Mike and Julia doomed. They run away\\n\\nQuestion: What is the story about?\\n[/INST]  Based on the context provided, the story appears to be about Bill and Katie, who are best friends, and their venture into creating an explainer video for their coffee shop. The story jumps between different scenes and situations, including Bill's membership in a group called the Stone Cutters Club, which organizes a charity dinner and dance every year. The story also involves zombies invading the city, causing chaos and danger for the characters.\\n\\nSo, to answer your question, the story is about Bill and Katie's adventure in creating an explainer video for their coffee shop, as well as their experiences with the Stone Cutters Club and the zombie invasion in the city.\",\n",
              " 'source_documents': [Document(page_content=\"This is the story of Bill and Katie, who are the best friends. Last year Bill was working in a big company, but he wasn't very happy with his boss. And Katie, she was really bored with working as a waitress. She had to take a long way to work. Best friend\"),\n",
              "  Document(page_content='a long way to work. Best friend Julie and they decided to make a killer explainer video together. They started looking for actors to pick the right one. Now that they have the character, they need the right setting. The website is for their coffee shop,'),\n",
              "  Document(page_content='and Julia doomed. They run away and forget about their video. So this is Bill. He belongs to the Stone Cutters Club, a group of business people who do good for the community. Now every year, the stone cutters put on a dinner and charity dance for people'),\n",
              "  Document(page_content=\"is for their coffee shop, so they go into the city. As they walk through the streets, they see the perfect little coffee shop to film. Oh no, there's a problem. Zombies invaded the city and the police can't stop them. Mike and Julia doomed. They run away\")]}"
            ]
          },
          "metadata": {},
          "execution_count": 46
        }
      ],
      "source": [
        "result"
      ]
    },
    {
      "cell_type": "code",
      "execution_count": null,
      "metadata": {
        "id": "XjYOjWstD6CA"
      },
      "outputs": [],
      "source": []
    },
    {
      "cell_type": "code",
      "execution_count": null,
      "metadata": {
        "colab": {
          "base_uri": "https://localhost:8080/",
          "height": 751
        },
        "id": "iqwTwc85D6XP",
        "outputId": "205c8a31-0d9b-450b-b9fe-924facc846e4"
      },
      "outputs": [
        {
          "output_type": "stream",
          "name": "stdout",
          "text": [
            "prompt:Hello\n",
            "Answer:Hello! I'm here to help you with any questions you may have. Based on the context you provided, it seems like you're working on a story or script of some kind. Is there a specific question or topic you'd like me to help with?\n",
            "prompt:Can you list down the characters ?\n",
            "Answer:Sure, here are the characters mentioned in the context:\n",
            "\n",
            "1. Bill\n",
            "2. Katie\n",
            "3. Julie (Bill and Katie's best friend)\n",
            "4. The boss (Bill's boss at the big company)\n",
            "5. The waitress (Katie's job)\n",
            "6. The Stone Cutters Club (a group of business people who do good for the community)\n",
            "7. The volunteers (managed by the Stone Cutters Club through the Cause Guru website)\n",
            "prompt:What work does Bill do ?\n",
            "Answer:Based on the context provided, Bill works for the Stone Cutters Club, a group of business people who do good for the community.\n",
            "prompt:What is it they are trying to do ?\n",
            "Answer:Based on the context provided, it seems that Bill and the Stone Cutters Club are organizing a charity dinner and dance event to raise money for people in need. They are also filming a video for their coffee shop, but the zombie invasion interrupts their plans. Therefore, the answer to the question is: They are trying to organize a charity event and film a video for their coffee shop.\n",
            "prompt:Who is the bestfriend of Bill ?\n",
            "Answer:Based on the context provided, the best friend of Bill is Katie.\n",
            "prompt:What is it they are trying to do ?\n",
            "Answer:Based on the context provided, it seems that Bill and the Stone Cutters Club are organizing a charity dinner and dance event for people in need. They have signed up with a website called Cause Guru to manage their volunteers and promote their event. The event is for their coffee shop, and they are looking for actors and the right setting for the event. Therefore, the answer to the question is: They are trying to organize a charity dinner and dance event for people in need.\n"
          ]
        },
        {
          "output_type": "error",
          "ename": "KeyboardInterrupt",
          "evalue": "Interrupted by user",
          "traceback": [
            "\u001b[0;31m---------------------------------------------------------------------------\u001b[0m",
            "\u001b[0;31mKeyboardInterrupt\u001b[0m                         Traceback (most recent call last)",
            "\u001b[0;32m<ipython-input-47-045862e5917f>\u001b[0m in \u001b[0;36m<cell line: 1>\u001b[0;34m()\u001b[0m\n\u001b[1;32m      1\u001b[0m \u001b[0;32mwhile\u001b[0m \u001b[0;32mTrue\u001b[0m\u001b[0;34m:\u001b[0m\u001b[0;34m\u001b[0m\u001b[0;34m\u001b[0m\u001b[0m\n\u001b[0;32m----> 2\u001b[0;31m     \u001b[0muser_input\u001b[0m\u001b[0;34m=\u001b[0m\u001b[0minput\u001b[0m\u001b[0;34m(\u001b[0m\u001b[0;34mf\"prompt:\"\u001b[0m\u001b[0;34m)\u001b[0m\u001b[0;34m\u001b[0m\u001b[0;34m\u001b[0m\u001b[0m\n\u001b[0m\u001b[1;32m      3\u001b[0m     \u001b[0;32mif\u001b[0m \u001b[0muser_input\u001b[0m\u001b[0;34m==\u001b[0m\u001b[0;34m'exit'\u001b[0m\u001b[0;34m:\u001b[0m\u001b[0;34m\u001b[0m\u001b[0;34m\u001b[0m\u001b[0m\n\u001b[1;32m      4\u001b[0m         \u001b[0mprint\u001b[0m\u001b[0;34m(\u001b[0m\u001b[0;34m'Exiting'\u001b[0m\u001b[0;34m)\u001b[0m\u001b[0;34m\u001b[0m\u001b[0;34m\u001b[0m\u001b[0m\n\u001b[1;32m      5\u001b[0m         \u001b[0msys\u001b[0m\u001b[0;34m.\u001b[0m\u001b[0mexit\u001b[0m\u001b[0;34m(\u001b[0m\u001b[0;34m)\u001b[0m\u001b[0;34m\u001b[0m\u001b[0;34m\u001b[0m\u001b[0m\n",
            "\u001b[0;32m/usr/local/lib/python3.10/dist-packages/ipykernel/kernelbase.py\u001b[0m in \u001b[0;36mraw_input\u001b[0;34m(self, prompt)\u001b[0m\n\u001b[1;32m    849\u001b[0m                 \u001b[0;34m\"raw_input was called, but this frontend does not support input requests.\"\u001b[0m\u001b[0;34m\u001b[0m\u001b[0;34m\u001b[0m\u001b[0m\n\u001b[1;32m    850\u001b[0m             )\n\u001b[0;32m--> 851\u001b[0;31m         return self._input_request(str(prompt),\n\u001b[0m\u001b[1;32m    852\u001b[0m             \u001b[0mself\u001b[0m\u001b[0;34m.\u001b[0m\u001b[0m_parent_ident\u001b[0m\u001b[0;34m,\u001b[0m\u001b[0;34m\u001b[0m\u001b[0;34m\u001b[0m\u001b[0m\n\u001b[1;32m    853\u001b[0m             \u001b[0mself\u001b[0m\u001b[0;34m.\u001b[0m\u001b[0m_parent_header\u001b[0m\u001b[0;34m,\u001b[0m\u001b[0;34m\u001b[0m\u001b[0;34m\u001b[0m\u001b[0m\n",
            "\u001b[0;32m/usr/local/lib/python3.10/dist-packages/ipykernel/kernelbase.py\u001b[0m in \u001b[0;36m_input_request\u001b[0;34m(self, prompt, ident, parent, password)\u001b[0m\n\u001b[1;32m    893\u001b[0m             \u001b[0;32mexcept\u001b[0m \u001b[0mKeyboardInterrupt\u001b[0m\u001b[0;34m:\u001b[0m\u001b[0;34m\u001b[0m\u001b[0;34m\u001b[0m\u001b[0m\n\u001b[1;32m    894\u001b[0m                 \u001b[0;31m# re-raise KeyboardInterrupt, to truncate traceback\u001b[0m\u001b[0;34m\u001b[0m\u001b[0;34m\u001b[0m\u001b[0m\n\u001b[0;32m--> 895\u001b[0;31m                 \u001b[0;32mraise\u001b[0m \u001b[0mKeyboardInterrupt\u001b[0m\u001b[0;34m(\u001b[0m\u001b[0;34m\"Interrupted by user\"\u001b[0m\u001b[0;34m)\u001b[0m \u001b[0;32mfrom\u001b[0m \u001b[0;32mNone\u001b[0m\u001b[0;34m\u001b[0m\u001b[0;34m\u001b[0m\u001b[0m\n\u001b[0m\u001b[1;32m    896\u001b[0m             \u001b[0;32mexcept\u001b[0m \u001b[0mException\u001b[0m \u001b[0;32mas\u001b[0m \u001b[0me\u001b[0m\u001b[0;34m:\u001b[0m\u001b[0;34m\u001b[0m\u001b[0;34m\u001b[0m\u001b[0m\n\u001b[1;32m    897\u001b[0m                 \u001b[0mself\u001b[0m\u001b[0;34m.\u001b[0m\u001b[0mlog\u001b[0m\u001b[0;34m.\u001b[0m\u001b[0mwarning\u001b[0m\u001b[0;34m(\u001b[0m\u001b[0;34m\"Invalid Message:\"\u001b[0m\u001b[0;34m,\u001b[0m \u001b[0mexc_info\u001b[0m\u001b[0;34m=\u001b[0m\u001b[0;32mTrue\u001b[0m\u001b[0;34m)\u001b[0m\u001b[0;34m\u001b[0m\u001b[0;34m\u001b[0m\u001b[0m\n",
            "\u001b[0;31mKeyboardInterrupt\u001b[0m: Interrupted by user"
          ]
        }
      ],
      "source": [
        "while True:\n",
        "    user_input=input(f\"prompt:\")\n",
        "    if user_input=='exit':\n",
        "        print('Exiting')\n",
        "        sys.exit()\n",
        "    if user_input=='':\n",
        "        continue\n",
        "    result=qa_chain({'query':user_input})\n",
        "    print(f\"Answer:{result['result'].split('[/INST]')[1].strip()}\")"
      ]
    }
  ],
  "metadata": {
    "accelerator": "GPU",
    "colab": {
      "gpuType": "T4",
      "provenance": []
    },
    "kernelspec": {
      "display_name": "Python 3",
      "name": "python3"
    },
    "language_info": {
      "name": "python"
    },
    "widgets": {
      "application/vnd.jupyter.widget-state+json": {
        "464e20a152c74ce5b0dee9e0533e5d67": {
          "model_module": "@jupyter-widgets/controls",
          "model_name": "VBoxModel",
          "model_module_version": "1.5.0",
          "state": {
            "_dom_classes": [],
            "_model_module": "@jupyter-widgets/controls",
            "_model_module_version": "1.5.0",
            "_model_name": "VBoxModel",
            "_view_count": null,
            "_view_module": "@jupyter-widgets/controls",
            "_view_module_version": "1.5.0",
            "_view_name": "VBoxView",
            "box_style": "",
            "children": [
              "IPY_MODEL_80c92eda1d224d2b9eece6a980c564bf",
              "IPY_MODEL_f7d5103aac6142f1946ad0de13723e2f",
              "IPY_MODEL_c8dc2e27c71042ec8a3b4cbd421ea2d1",
              "IPY_MODEL_2f7d3c0c95844e369278a107ba52ffab"
            ],
            "layout": "IPY_MODEL_b0beeb6694054b43a1ab6cf636f1d272"
          }
        },
        "49d4e494846345cc8e6c9aec9a5d2973": {
          "model_module": "@jupyter-widgets/controls",
          "model_name": "HTMLModel",
          "model_module_version": "1.5.0",
          "state": {
            "_dom_classes": [],
            "_model_module": "@jupyter-widgets/controls",
            "_model_module_version": "1.5.0",
            "_model_name": "HTMLModel",
            "_view_count": null,
            "_view_module": "@jupyter-widgets/controls",
            "_view_module_version": "1.5.0",
            "_view_name": "HTMLView",
            "description": "",
            "description_tooltip": null,
            "layout": "IPY_MODEL_5b225b3be0fd44aba9d4e82f20fcabbb",
            "placeholder": "​",
            "style": "IPY_MODEL_cee6f83a079c47968ef1b871614e1f1a",
            "value": "<center> <img\nsrc=https://huggingface.co/front/assets/huggingface_logo-noborder.svg\nalt='Hugging Face'> <br> Copy a token from <a\nhref=\"https://huggingface.co/settings/tokens\" target=\"_blank\">your Hugging Face\ntokens page</a> and paste it below. <br> Immediately click login after copying\nyour token or it might be stored in plain text in this notebook file. </center>"
          }
        },
        "cb37c4d494bf4063a014f7643968f7b0": {
          "model_module": "@jupyter-widgets/controls",
          "model_name": "PasswordModel",
          "model_module_version": "1.5.0",
          "state": {
            "_dom_classes": [],
            "_model_module": "@jupyter-widgets/controls",
            "_model_module_version": "1.5.0",
            "_model_name": "PasswordModel",
            "_view_count": null,
            "_view_module": "@jupyter-widgets/controls",
            "_view_module_version": "1.5.0",
            "_view_name": "PasswordView",
            "continuous_update": true,
            "description": "Token:",
            "description_tooltip": null,
            "disabled": false,
            "layout": "IPY_MODEL_e889feeb8d234ce1a6a3d5118b0fb9d9",
            "placeholder": "​",
            "style": "IPY_MODEL_bee15e46d35b4ad2a2b83b9a01d9e7a8",
            "value": ""
          }
        },
        "c0f8f1dc0a654c84904ae5f5bcc061c0": {
          "model_module": "@jupyter-widgets/controls",
          "model_name": "CheckboxModel",
          "model_module_version": "1.5.0",
          "state": {
            "_dom_classes": [],
            "_model_module": "@jupyter-widgets/controls",
            "_model_module_version": "1.5.0",
            "_model_name": "CheckboxModel",
            "_view_count": null,
            "_view_module": "@jupyter-widgets/controls",
            "_view_module_version": "1.5.0",
            "_view_name": "CheckboxView",
            "description": "Add token as git credential?",
            "description_tooltip": null,
            "disabled": false,
            "indent": true,
            "layout": "IPY_MODEL_8d4bc48d2bcb4d528a04d2b4824e8f74",
            "style": "IPY_MODEL_9ac2ffb77cb74fa2adb8a231422721df",
            "value": true
          }
        },
        "0a23dfbcb2a645379a782e4129f017cb": {
          "model_module": "@jupyter-widgets/controls",
          "model_name": "ButtonModel",
          "model_module_version": "1.5.0",
          "state": {
            "_dom_classes": [],
            "_model_module": "@jupyter-widgets/controls",
            "_model_module_version": "1.5.0",
            "_model_name": "ButtonModel",
            "_view_count": null,
            "_view_module": "@jupyter-widgets/controls",
            "_view_module_version": "1.5.0",
            "_view_name": "ButtonView",
            "button_style": "",
            "description": "Login",
            "disabled": false,
            "icon": "",
            "layout": "IPY_MODEL_7e661d6a05bd4f7e833440d1fcd5f446",
            "style": "IPY_MODEL_ea1e1a401c0a4921ba0f3165228957c5",
            "tooltip": ""
          }
        },
        "2b6d5051ab1147959d90149d2f09c4da": {
          "model_module": "@jupyter-widgets/controls",
          "model_name": "HTMLModel",
          "model_module_version": "1.5.0",
          "state": {
            "_dom_classes": [],
            "_model_module": "@jupyter-widgets/controls",
            "_model_module_version": "1.5.0",
            "_model_name": "HTMLModel",
            "_view_count": null,
            "_view_module": "@jupyter-widgets/controls",
            "_view_module_version": "1.5.0",
            "_view_name": "HTMLView",
            "description": "",
            "description_tooltip": null,
            "layout": "IPY_MODEL_1d02dec244c845779d9fd03a99f17c96",
            "placeholder": "​",
            "style": "IPY_MODEL_349f0ccd00db410d90267b045356c0f8",
            "value": "\n<b>Pro Tip:</b> If you don't already have one, you can create a dedicated\n'notebooks' token with 'write' access, that you can then easily reuse for all\nnotebooks. </center>"
          }
        },
        "b0beeb6694054b43a1ab6cf636f1d272": {
          "model_module": "@jupyter-widgets/base",
          "model_name": "LayoutModel",
          "model_module_version": "1.2.0",
          "state": {
            "_model_module": "@jupyter-widgets/base",
            "_model_module_version": "1.2.0",
            "_model_name": "LayoutModel",
            "_view_count": null,
            "_view_module": "@jupyter-widgets/base",
            "_view_module_version": "1.2.0",
            "_view_name": "LayoutView",
            "align_content": null,
            "align_items": "center",
            "align_self": null,
            "border": null,
            "bottom": null,
            "display": "flex",
            "flex": null,
            "flex_flow": "column",
            "grid_area": null,
            "grid_auto_columns": null,
            "grid_auto_flow": null,
            "grid_auto_rows": null,
            "grid_column": null,
            "grid_gap": null,
            "grid_row": null,
            "grid_template_areas": null,
            "grid_template_columns": null,
            "grid_template_rows": null,
            "height": null,
            "justify_content": null,
            "justify_items": null,
            "left": null,
            "margin": null,
            "max_height": null,
            "max_width": null,
            "min_height": null,
            "min_width": null,
            "object_fit": null,
            "object_position": null,
            "order": null,
            "overflow": null,
            "overflow_x": null,
            "overflow_y": null,
            "padding": null,
            "right": null,
            "top": null,
            "visibility": null,
            "width": "50%"
          }
        },
        "5b225b3be0fd44aba9d4e82f20fcabbb": {
          "model_module": "@jupyter-widgets/base",
          "model_name": "LayoutModel",
          "model_module_version": "1.2.0",
          "state": {
            "_model_module": "@jupyter-widgets/base",
            "_model_module_version": "1.2.0",
            "_model_name": "LayoutModel",
            "_view_count": null,
            "_view_module": "@jupyter-widgets/base",
            "_view_module_version": "1.2.0",
            "_view_name": "LayoutView",
            "align_content": null,
            "align_items": null,
            "align_self": null,
            "border": null,
            "bottom": null,
            "display": null,
            "flex": null,
            "flex_flow": null,
            "grid_area": null,
            "grid_auto_columns": null,
            "grid_auto_flow": null,
            "grid_auto_rows": null,
            "grid_column": null,
            "grid_gap": null,
            "grid_row": null,
            "grid_template_areas": null,
            "grid_template_columns": null,
            "grid_template_rows": null,
            "height": null,
            "justify_content": null,
            "justify_items": null,
            "left": null,
            "margin": null,
            "max_height": null,
            "max_width": null,
            "min_height": null,
            "min_width": null,
            "object_fit": null,
            "object_position": null,
            "order": null,
            "overflow": null,
            "overflow_x": null,
            "overflow_y": null,
            "padding": null,
            "right": null,
            "top": null,
            "visibility": null,
            "width": null
          }
        },
        "cee6f83a079c47968ef1b871614e1f1a": {
          "model_module": "@jupyter-widgets/controls",
          "model_name": "DescriptionStyleModel",
          "model_module_version": "1.5.0",
          "state": {
            "_model_module": "@jupyter-widgets/controls",
            "_model_module_version": "1.5.0",
            "_model_name": "DescriptionStyleModel",
            "_view_count": null,
            "_view_module": "@jupyter-widgets/base",
            "_view_module_version": "1.2.0",
            "_view_name": "StyleView",
            "description_width": ""
          }
        },
        "e889feeb8d234ce1a6a3d5118b0fb9d9": {
          "model_module": "@jupyter-widgets/base",
          "model_name": "LayoutModel",
          "model_module_version": "1.2.0",
          "state": {
            "_model_module": "@jupyter-widgets/base",
            "_model_module_version": "1.2.0",
            "_model_name": "LayoutModel",
            "_view_count": null,
            "_view_module": "@jupyter-widgets/base",
            "_view_module_version": "1.2.0",
            "_view_name": "LayoutView",
            "align_content": null,
            "align_items": null,
            "align_self": null,
            "border": null,
            "bottom": null,
            "display": null,
            "flex": null,
            "flex_flow": null,
            "grid_area": null,
            "grid_auto_columns": null,
            "grid_auto_flow": null,
            "grid_auto_rows": null,
            "grid_column": null,
            "grid_gap": null,
            "grid_row": null,
            "grid_template_areas": null,
            "grid_template_columns": null,
            "grid_template_rows": null,
            "height": null,
            "justify_content": null,
            "justify_items": null,
            "left": null,
            "margin": null,
            "max_height": null,
            "max_width": null,
            "min_height": null,
            "min_width": null,
            "object_fit": null,
            "object_position": null,
            "order": null,
            "overflow": null,
            "overflow_x": null,
            "overflow_y": null,
            "padding": null,
            "right": null,
            "top": null,
            "visibility": null,
            "width": null
          }
        },
        "bee15e46d35b4ad2a2b83b9a01d9e7a8": {
          "model_module": "@jupyter-widgets/controls",
          "model_name": "DescriptionStyleModel",
          "model_module_version": "1.5.0",
          "state": {
            "_model_module": "@jupyter-widgets/controls",
            "_model_module_version": "1.5.0",
            "_model_name": "DescriptionStyleModel",
            "_view_count": null,
            "_view_module": "@jupyter-widgets/base",
            "_view_module_version": "1.2.0",
            "_view_name": "StyleView",
            "description_width": ""
          }
        },
        "8d4bc48d2bcb4d528a04d2b4824e8f74": {
          "model_module": "@jupyter-widgets/base",
          "model_name": "LayoutModel",
          "model_module_version": "1.2.0",
          "state": {
            "_model_module": "@jupyter-widgets/base",
            "_model_module_version": "1.2.0",
            "_model_name": "LayoutModel",
            "_view_count": null,
            "_view_module": "@jupyter-widgets/base",
            "_view_module_version": "1.2.0",
            "_view_name": "LayoutView",
            "align_content": null,
            "align_items": null,
            "align_self": null,
            "border": null,
            "bottom": null,
            "display": null,
            "flex": null,
            "flex_flow": null,
            "grid_area": null,
            "grid_auto_columns": null,
            "grid_auto_flow": null,
            "grid_auto_rows": null,
            "grid_column": null,
            "grid_gap": null,
            "grid_row": null,
            "grid_template_areas": null,
            "grid_template_columns": null,
            "grid_template_rows": null,
            "height": null,
            "justify_content": null,
            "justify_items": null,
            "left": null,
            "margin": null,
            "max_height": null,
            "max_width": null,
            "min_height": null,
            "min_width": null,
            "object_fit": null,
            "object_position": null,
            "order": null,
            "overflow": null,
            "overflow_x": null,
            "overflow_y": null,
            "padding": null,
            "right": null,
            "top": null,
            "visibility": null,
            "width": null
          }
        },
        "9ac2ffb77cb74fa2adb8a231422721df": {
          "model_module": "@jupyter-widgets/controls",
          "model_name": "DescriptionStyleModel",
          "model_module_version": "1.5.0",
          "state": {
            "_model_module": "@jupyter-widgets/controls",
            "_model_module_version": "1.5.0",
            "_model_name": "DescriptionStyleModel",
            "_view_count": null,
            "_view_module": "@jupyter-widgets/base",
            "_view_module_version": "1.2.0",
            "_view_name": "StyleView",
            "description_width": ""
          }
        },
        "7e661d6a05bd4f7e833440d1fcd5f446": {
          "model_module": "@jupyter-widgets/base",
          "model_name": "LayoutModel",
          "model_module_version": "1.2.0",
          "state": {
            "_model_module": "@jupyter-widgets/base",
            "_model_module_version": "1.2.0",
            "_model_name": "LayoutModel",
            "_view_count": null,
            "_view_module": "@jupyter-widgets/base",
            "_view_module_version": "1.2.0",
            "_view_name": "LayoutView",
            "align_content": null,
            "align_items": null,
            "align_self": null,
            "border": null,
            "bottom": null,
            "display": null,
            "flex": null,
            "flex_flow": null,
            "grid_area": null,
            "grid_auto_columns": null,
            "grid_auto_flow": null,
            "grid_auto_rows": null,
            "grid_column": null,
            "grid_gap": null,
            "grid_row": null,
            "grid_template_areas": null,
            "grid_template_columns": null,
            "grid_template_rows": null,
            "height": null,
            "justify_content": null,
            "justify_items": null,
            "left": null,
            "margin": null,
            "max_height": null,
            "max_width": null,
            "min_height": null,
            "min_width": null,
            "object_fit": null,
            "object_position": null,
            "order": null,
            "overflow": null,
            "overflow_x": null,
            "overflow_y": null,
            "padding": null,
            "right": null,
            "top": null,
            "visibility": null,
            "width": null
          }
        },
        "ea1e1a401c0a4921ba0f3165228957c5": {
          "model_module": "@jupyter-widgets/controls",
          "model_name": "ButtonStyleModel",
          "model_module_version": "1.5.0",
          "state": {
            "_model_module": "@jupyter-widgets/controls",
            "_model_module_version": "1.5.0",
            "_model_name": "ButtonStyleModel",
            "_view_count": null,
            "_view_module": "@jupyter-widgets/base",
            "_view_module_version": "1.2.0",
            "_view_name": "StyleView",
            "button_color": null,
            "font_weight": ""
          }
        },
        "1d02dec244c845779d9fd03a99f17c96": {
          "model_module": "@jupyter-widgets/base",
          "model_name": "LayoutModel",
          "model_module_version": "1.2.0",
          "state": {
            "_model_module": "@jupyter-widgets/base",
            "_model_module_version": "1.2.0",
            "_model_name": "LayoutModel",
            "_view_count": null,
            "_view_module": "@jupyter-widgets/base",
            "_view_module_version": "1.2.0",
            "_view_name": "LayoutView",
            "align_content": null,
            "align_items": null,
            "align_self": null,
            "border": null,
            "bottom": null,
            "display": null,
            "flex": null,
            "flex_flow": null,
            "grid_area": null,
            "grid_auto_columns": null,
            "grid_auto_flow": null,
            "grid_auto_rows": null,
            "grid_column": null,
            "grid_gap": null,
            "grid_row": null,
            "grid_template_areas": null,
            "grid_template_columns": null,
            "grid_template_rows": null,
            "height": null,
            "justify_content": null,
            "justify_items": null,
            "left": null,
            "margin": null,
            "max_height": null,
            "max_width": null,
            "min_height": null,
            "min_width": null,
            "object_fit": null,
            "object_position": null,
            "order": null,
            "overflow": null,
            "overflow_x": null,
            "overflow_y": null,
            "padding": null,
            "right": null,
            "top": null,
            "visibility": null,
            "width": null
          }
        },
        "349f0ccd00db410d90267b045356c0f8": {
          "model_module": "@jupyter-widgets/controls",
          "model_name": "DescriptionStyleModel",
          "model_module_version": "1.5.0",
          "state": {
            "_model_module": "@jupyter-widgets/controls",
            "_model_module_version": "1.5.0",
            "_model_name": "DescriptionStyleModel",
            "_view_count": null,
            "_view_module": "@jupyter-widgets/base",
            "_view_module_version": "1.2.0",
            "_view_name": "StyleView",
            "description_width": ""
          }
        },
        "62d19118b7e2465e9a72731b704f30b4": {
          "model_module": "@jupyter-widgets/controls",
          "model_name": "LabelModel",
          "model_module_version": "1.5.0",
          "state": {
            "_dom_classes": [],
            "_model_module": "@jupyter-widgets/controls",
            "_model_module_version": "1.5.0",
            "_model_name": "LabelModel",
            "_view_count": null,
            "_view_module": "@jupyter-widgets/controls",
            "_view_module_version": "1.5.0",
            "_view_name": "LabelView",
            "description": "",
            "description_tooltip": null,
            "layout": "IPY_MODEL_150f3ac4796549adb33560303dcb832a",
            "placeholder": "​",
            "style": "IPY_MODEL_427c91930eea4f50abee58ece7091caf",
            "value": "Connecting..."
          }
        },
        "150f3ac4796549adb33560303dcb832a": {
          "model_module": "@jupyter-widgets/base",
          "model_name": "LayoutModel",
          "model_module_version": "1.2.0",
          "state": {
            "_model_module": "@jupyter-widgets/base",
            "_model_module_version": "1.2.0",
            "_model_name": "LayoutModel",
            "_view_count": null,
            "_view_module": "@jupyter-widgets/base",
            "_view_module_version": "1.2.0",
            "_view_name": "LayoutView",
            "align_content": null,
            "align_items": null,
            "align_self": null,
            "border": null,
            "bottom": null,
            "display": null,
            "flex": null,
            "flex_flow": null,
            "grid_area": null,
            "grid_auto_columns": null,
            "grid_auto_flow": null,
            "grid_auto_rows": null,
            "grid_column": null,
            "grid_gap": null,
            "grid_row": null,
            "grid_template_areas": null,
            "grid_template_columns": null,
            "grid_template_rows": null,
            "height": null,
            "justify_content": null,
            "justify_items": null,
            "left": null,
            "margin": null,
            "max_height": null,
            "max_width": null,
            "min_height": null,
            "min_width": null,
            "object_fit": null,
            "object_position": null,
            "order": null,
            "overflow": null,
            "overflow_x": null,
            "overflow_y": null,
            "padding": null,
            "right": null,
            "top": null,
            "visibility": null,
            "width": null
          }
        },
        "427c91930eea4f50abee58ece7091caf": {
          "model_module": "@jupyter-widgets/controls",
          "model_name": "DescriptionStyleModel",
          "model_module_version": "1.5.0",
          "state": {
            "_model_module": "@jupyter-widgets/controls",
            "_model_module_version": "1.5.0",
            "_model_name": "DescriptionStyleModel",
            "_view_count": null,
            "_view_module": "@jupyter-widgets/base",
            "_view_module_version": "1.2.0",
            "_view_name": "StyleView",
            "description_width": ""
          }
        },
        "80c92eda1d224d2b9eece6a980c564bf": {
          "model_module": "@jupyter-widgets/controls",
          "model_name": "LabelModel",
          "model_module_version": "1.5.0",
          "state": {
            "_dom_classes": [],
            "_model_module": "@jupyter-widgets/controls",
            "_model_module_version": "1.5.0",
            "_model_name": "LabelModel",
            "_view_count": null,
            "_view_module": "@jupyter-widgets/controls",
            "_view_module_version": "1.5.0",
            "_view_name": "LabelView",
            "description": "",
            "description_tooltip": null,
            "layout": "IPY_MODEL_0fa3fd51d503451baf968db54363ea9c",
            "placeholder": "​",
            "style": "IPY_MODEL_9740e3c1be424c2abf195865ee8432b9",
            "value": "Token is valid (permission: write)."
          }
        },
        "f7d5103aac6142f1946ad0de13723e2f": {
          "model_module": "@jupyter-widgets/controls",
          "model_name": "LabelModel",
          "model_module_version": "1.5.0",
          "state": {
            "_dom_classes": [],
            "_model_module": "@jupyter-widgets/controls",
            "_model_module_version": "1.5.0",
            "_model_name": "LabelModel",
            "_view_count": null,
            "_view_module": "@jupyter-widgets/controls",
            "_view_module_version": "1.5.0",
            "_view_name": "LabelView",
            "description": "",
            "description_tooltip": null,
            "layout": "IPY_MODEL_bf3097067cbc4a918f3feabe6a86e50b",
            "placeholder": "​",
            "style": "IPY_MODEL_2b93e9511dd24add97404dd4a060be31",
            "value": "Your token has been saved in your configured git credential helpers (store)."
          }
        },
        "c8dc2e27c71042ec8a3b4cbd421ea2d1": {
          "model_module": "@jupyter-widgets/controls",
          "model_name": "LabelModel",
          "model_module_version": "1.5.0",
          "state": {
            "_dom_classes": [],
            "_model_module": "@jupyter-widgets/controls",
            "_model_module_version": "1.5.0",
            "_model_name": "LabelModel",
            "_view_count": null,
            "_view_module": "@jupyter-widgets/controls",
            "_view_module_version": "1.5.0",
            "_view_name": "LabelView",
            "description": "",
            "description_tooltip": null,
            "layout": "IPY_MODEL_2d3d3245ea1542bc85224effd801cb40",
            "placeholder": "​",
            "style": "IPY_MODEL_d63f9a719c304cb3b05287a3eed7b2b9",
            "value": "Your token has been saved to /root/.cache/huggingface/token"
          }
        },
        "2f7d3c0c95844e369278a107ba52ffab": {
          "model_module": "@jupyter-widgets/controls",
          "model_name": "LabelModel",
          "model_module_version": "1.5.0",
          "state": {
            "_dom_classes": [],
            "_model_module": "@jupyter-widgets/controls",
            "_model_module_version": "1.5.0",
            "_model_name": "LabelModel",
            "_view_count": null,
            "_view_module": "@jupyter-widgets/controls",
            "_view_module_version": "1.5.0",
            "_view_name": "LabelView",
            "description": "",
            "description_tooltip": null,
            "layout": "IPY_MODEL_dd219ac101024440b2477a074e6b26ec",
            "placeholder": "​",
            "style": "IPY_MODEL_c3baab73ee604df88f2281b319916599",
            "value": "Login successful"
          }
        },
        "0fa3fd51d503451baf968db54363ea9c": {
          "model_module": "@jupyter-widgets/base",
          "model_name": "LayoutModel",
          "model_module_version": "1.2.0",
          "state": {
            "_model_module": "@jupyter-widgets/base",
            "_model_module_version": "1.2.0",
            "_model_name": "LayoutModel",
            "_view_count": null,
            "_view_module": "@jupyter-widgets/base",
            "_view_module_version": "1.2.0",
            "_view_name": "LayoutView",
            "align_content": null,
            "align_items": null,
            "align_self": null,
            "border": null,
            "bottom": null,
            "display": null,
            "flex": null,
            "flex_flow": null,
            "grid_area": null,
            "grid_auto_columns": null,
            "grid_auto_flow": null,
            "grid_auto_rows": null,
            "grid_column": null,
            "grid_gap": null,
            "grid_row": null,
            "grid_template_areas": null,
            "grid_template_columns": null,
            "grid_template_rows": null,
            "height": null,
            "justify_content": null,
            "justify_items": null,
            "left": null,
            "margin": null,
            "max_height": null,
            "max_width": null,
            "min_height": null,
            "min_width": null,
            "object_fit": null,
            "object_position": null,
            "order": null,
            "overflow": null,
            "overflow_x": null,
            "overflow_y": null,
            "padding": null,
            "right": null,
            "top": null,
            "visibility": null,
            "width": null
          }
        },
        "9740e3c1be424c2abf195865ee8432b9": {
          "model_module": "@jupyter-widgets/controls",
          "model_name": "DescriptionStyleModel",
          "model_module_version": "1.5.0",
          "state": {
            "_model_module": "@jupyter-widgets/controls",
            "_model_module_version": "1.5.0",
            "_model_name": "DescriptionStyleModel",
            "_view_count": null,
            "_view_module": "@jupyter-widgets/base",
            "_view_module_version": "1.2.0",
            "_view_name": "StyleView",
            "description_width": ""
          }
        },
        "bf3097067cbc4a918f3feabe6a86e50b": {
          "model_module": "@jupyter-widgets/base",
          "model_name": "LayoutModel",
          "model_module_version": "1.2.0",
          "state": {
            "_model_module": "@jupyter-widgets/base",
            "_model_module_version": "1.2.0",
            "_model_name": "LayoutModel",
            "_view_count": null,
            "_view_module": "@jupyter-widgets/base",
            "_view_module_version": "1.2.0",
            "_view_name": "LayoutView",
            "align_content": null,
            "align_items": null,
            "align_self": null,
            "border": null,
            "bottom": null,
            "display": null,
            "flex": null,
            "flex_flow": null,
            "grid_area": null,
            "grid_auto_columns": null,
            "grid_auto_flow": null,
            "grid_auto_rows": null,
            "grid_column": null,
            "grid_gap": null,
            "grid_row": null,
            "grid_template_areas": null,
            "grid_template_columns": null,
            "grid_template_rows": null,
            "height": null,
            "justify_content": null,
            "justify_items": null,
            "left": null,
            "margin": null,
            "max_height": null,
            "max_width": null,
            "min_height": null,
            "min_width": null,
            "object_fit": null,
            "object_position": null,
            "order": null,
            "overflow": null,
            "overflow_x": null,
            "overflow_y": null,
            "padding": null,
            "right": null,
            "top": null,
            "visibility": null,
            "width": null
          }
        },
        "2b93e9511dd24add97404dd4a060be31": {
          "model_module": "@jupyter-widgets/controls",
          "model_name": "DescriptionStyleModel",
          "model_module_version": "1.5.0",
          "state": {
            "_model_module": "@jupyter-widgets/controls",
            "_model_module_version": "1.5.0",
            "_model_name": "DescriptionStyleModel",
            "_view_count": null,
            "_view_module": "@jupyter-widgets/base",
            "_view_module_version": "1.2.0",
            "_view_name": "StyleView",
            "description_width": ""
          }
        },
        "2d3d3245ea1542bc85224effd801cb40": {
          "model_module": "@jupyter-widgets/base",
          "model_name": "LayoutModel",
          "model_module_version": "1.2.0",
          "state": {
            "_model_module": "@jupyter-widgets/base",
            "_model_module_version": "1.2.0",
            "_model_name": "LayoutModel",
            "_view_count": null,
            "_view_module": "@jupyter-widgets/base",
            "_view_module_version": "1.2.0",
            "_view_name": "LayoutView",
            "align_content": null,
            "align_items": null,
            "align_self": null,
            "border": null,
            "bottom": null,
            "display": null,
            "flex": null,
            "flex_flow": null,
            "grid_area": null,
            "grid_auto_columns": null,
            "grid_auto_flow": null,
            "grid_auto_rows": null,
            "grid_column": null,
            "grid_gap": null,
            "grid_row": null,
            "grid_template_areas": null,
            "grid_template_columns": null,
            "grid_template_rows": null,
            "height": null,
            "justify_content": null,
            "justify_items": null,
            "left": null,
            "margin": null,
            "max_height": null,
            "max_width": null,
            "min_height": null,
            "min_width": null,
            "object_fit": null,
            "object_position": null,
            "order": null,
            "overflow": null,
            "overflow_x": null,
            "overflow_y": null,
            "padding": null,
            "right": null,
            "top": null,
            "visibility": null,
            "width": null
          }
        },
        "d63f9a719c304cb3b05287a3eed7b2b9": {
          "model_module": "@jupyter-widgets/controls",
          "model_name": "DescriptionStyleModel",
          "model_module_version": "1.5.0",
          "state": {
            "_model_module": "@jupyter-widgets/controls",
            "_model_module_version": "1.5.0",
            "_model_name": "DescriptionStyleModel",
            "_view_count": null,
            "_view_module": "@jupyter-widgets/base",
            "_view_module_version": "1.2.0",
            "_view_name": "StyleView",
            "description_width": ""
          }
        },
        "dd219ac101024440b2477a074e6b26ec": {
          "model_module": "@jupyter-widgets/base",
          "model_name": "LayoutModel",
          "model_module_version": "1.2.0",
          "state": {
            "_model_module": "@jupyter-widgets/base",
            "_model_module_version": "1.2.0",
            "_model_name": "LayoutModel",
            "_view_count": null,
            "_view_module": "@jupyter-widgets/base",
            "_view_module_version": "1.2.0",
            "_view_name": "LayoutView",
            "align_content": null,
            "align_items": null,
            "align_self": null,
            "border": null,
            "bottom": null,
            "display": null,
            "flex": null,
            "flex_flow": null,
            "grid_area": null,
            "grid_auto_columns": null,
            "grid_auto_flow": null,
            "grid_auto_rows": null,
            "grid_column": null,
            "grid_gap": null,
            "grid_row": null,
            "grid_template_areas": null,
            "grid_template_columns": null,
            "grid_template_rows": null,
            "height": null,
            "justify_content": null,
            "justify_items": null,
            "left": null,
            "margin": null,
            "max_height": null,
            "max_width": null,
            "min_height": null,
            "min_width": null,
            "object_fit": null,
            "object_position": null,
            "order": null,
            "overflow": null,
            "overflow_x": null,
            "overflow_y": null,
            "padding": null,
            "right": null,
            "top": null,
            "visibility": null,
            "width": null
          }
        },
        "c3baab73ee604df88f2281b319916599": {
          "model_module": "@jupyter-widgets/controls",
          "model_name": "DescriptionStyleModel",
          "model_module_version": "1.5.0",
          "state": {
            "_model_module": "@jupyter-widgets/controls",
            "_model_module_version": "1.5.0",
            "_model_name": "DescriptionStyleModel",
            "_view_count": null,
            "_view_module": "@jupyter-widgets/base",
            "_view_module_version": "1.2.0",
            "_view_name": "StyleView",
            "description_width": ""
          }
        },
        "20604e0688494d2fa1c39102478587ea": {
          "model_module": "@jupyter-widgets/controls",
          "model_name": "HBoxModel",
          "model_module_version": "1.5.0",
          "state": {
            "_dom_classes": [],
            "_model_module": "@jupyter-widgets/controls",
            "_model_module_version": "1.5.0",
            "_model_name": "HBoxModel",
            "_view_count": null,
            "_view_module": "@jupyter-widgets/controls",
            "_view_module_version": "1.5.0",
            "_view_name": "HBoxView",
            "box_style": "",
            "children": [
              "IPY_MODEL_7eca99ac38fe457fbcc68a884949dfbb",
              "IPY_MODEL_a1a0c56fdb5444f987347c0b48cf4678",
              "IPY_MODEL_29b8b8f8b2494681bb379daa1ad87808"
            ],
            "layout": "IPY_MODEL_36fb23af4bb5442f9c4f4e098df51ee6"
          }
        },
        "7eca99ac38fe457fbcc68a884949dfbb": {
          "model_module": "@jupyter-widgets/controls",
          "model_name": "HTMLModel",
          "model_module_version": "1.5.0",
          "state": {
            "_dom_classes": [],
            "_model_module": "@jupyter-widgets/controls",
            "_model_module_version": "1.5.0",
            "_model_name": "HTMLModel",
            "_view_count": null,
            "_view_module": "@jupyter-widgets/controls",
            "_view_module_version": "1.5.0",
            "_view_name": "HTMLView",
            "description": "",
            "description_tooltip": null,
            "layout": "IPY_MODEL_73119533e348454b90938ba7e238d630",
            "placeholder": "​",
            "style": "IPY_MODEL_6488d9551d7c441b82787b242ec8d64b",
            "value": "Loading checkpoint shards: 100%"
          }
        },
        "a1a0c56fdb5444f987347c0b48cf4678": {
          "model_module": "@jupyter-widgets/controls",
          "model_name": "FloatProgressModel",
          "model_module_version": "1.5.0",
          "state": {
            "_dom_classes": [],
            "_model_module": "@jupyter-widgets/controls",
            "_model_module_version": "1.5.0",
            "_model_name": "FloatProgressModel",
            "_view_count": null,
            "_view_module": "@jupyter-widgets/controls",
            "_view_module_version": "1.5.0",
            "_view_name": "ProgressView",
            "bar_style": "success",
            "description": "",
            "description_tooltip": null,
            "layout": "IPY_MODEL_cbe21d401e1b459f953b1cf7cb5cc0ac",
            "max": 2,
            "min": 0,
            "orientation": "horizontal",
            "style": "IPY_MODEL_13ca479b6a634c4d9a960caa8a30abdf",
            "value": 2
          }
        },
        "29b8b8f8b2494681bb379daa1ad87808": {
          "model_module": "@jupyter-widgets/controls",
          "model_name": "HTMLModel",
          "model_module_version": "1.5.0",
          "state": {
            "_dom_classes": [],
            "_model_module": "@jupyter-widgets/controls",
            "_model_module_version": "1.5.0",
            "_model_name": "HTMLModel",
            "_view_count": null,
            "_view_module": "@jupyter-widgets/controls",
            "_view_module_version": "1.5.0",
            "_view_name": "HTMLView",
            "description": "",
            "description_tooltip": null,
            "layout": "IPY_MODEL_aad9aa8910a94d68bfc0236ec456889a",
            "placeholder": "​",
            "style": "IPY_MODEL_a40a57283d62450393b3d65d8ee54a69",
            "value": " 2/2 [01:13&lt;00:00, 33.85s/it]"
          }
        },
        "36fb23af4bb5442f9c4f4e098df51ee6": {
          "model_module": "@jupyter-widgets/base",
          "model_name": "LayoutModel",
          "model_module_version": "1.2.0",
          "state": {
            "_model_module": "@jupyter-widgets/base",
            "_model_module_version": "1.2.0",
            "_model_name": "LayoutModel",
            "_view_count": null,
            "_view_module": "@jupyter-widgets/base",
            "_view_module_version": "1.2.0",
            "_view_name": "LayoutView",
            "align_content": null,
            "align_items": null,
            "align_self": null,
            "border": null,
            "bottom": null,
            "display": null,
            "flex": null,
            "flex_flow": null,
            "grid_area": null,
            "grid_auto_columns": null,
            "grid_auto_flow": null,
            "grid_auto_rows": null,
            "grid_column": null,
            "grid_gap": null,
            "grid_row": null,
            "grid_template_areas": null,
            "grid_template_columns": null,
            "grid_template_rows": null,
            "height": null,
            "justify_content": null,
            "justify_items": null,
            "left": null,
            "margin": null,
            "max_height": null,
            "max_width": null,
            "min_height": null,
            "min_width": null,
            "object_fit": null,
            "object_position": null,
            "order": null,
            "overflow": null,
            "overflow_x": null,
            "overflow_y": null,
            "padding": null,
            "right": null,
            "top": null,
            "visibility": null,
            "width": null
          }
        },
        "73119533e348454b90938ba7e238d630": {
          "model_module": "@jupyter-widgets/base",
          "model_name": "LayoutModel",
          "model_module_version": "1.2.0",
          "state": {
            "_model_module": "@jupyter-widgets/base",
            "_model_module_version": "1.2.0",
            "_model_name": "LayoutModel",
            "_view_count": null,
            "_view_module": "@jupyter-widgets/base",
            "_view_module_version": "1.2.0",
            "_view_name": "LayoutView",
            "align_content": null,
            "align_items": null,
            "align_self": null,
            "border": null,
            "bottom": null,
            "display": null,
            "flex": null,
            "flex_flow": null,
            "grid_area": null,
            "grid_auto_columns": null,
            "grid_auto_flow": null,
            "grid_auto_rows": null,
            "grid_column": null,
            "grid_gap": null,
            "grid_row": null,
            "grid_template_areas": null,
            "grid_template_columns": null,
            "grid_template_rows": null,
            "height": null,
            "justify_content": null,
            "justify_items": null,
            "left": null,
            "margin": null,
            "max_height": null,
            "max_width": null,
            "min_height": null,
            "min_width": null,
            "object_fit": null,
            "object_position": null,
            "order": null,
            "overflow": null,
            "overflow_x": null,
            "overflow_y": null,
            "padding": null,
            "right": null,
            "top": null,
            "visibility": null,
            "width": null
          }
        },
        "6488d9551d7c441b82787b242ec8d64b": {
          "model_module": "@jupyter-widgets/controls",
          "model_name": "DescriptionStyleModel",
          "model_module_version": "1.5.0",
          "state": {
            "_model_module": "@jupyter-widgets/controls",
            "_model_module_version": "1.5.0",
            "_model_name": "DescriptionStyleModel",
            "_view_count": null,
            "_view_module": "@jupyter-widgets/base",
            "_view_module_version": "1.2.0",
            "_view_name": "StyleView",
            "description_width": ""
          }
        },
        "cbe21d401e1b459f953b1cf7cb5cc0ac": {
          "model_module": "@jupyter-widgets/base",
          "model_name": "LayoutModel",
          "model_module_version": "1.2.0",
          "state": {
            "_model_module": "@jupyter-widgets/base",
            "_model_module_version": "1.2.0",
            "_model_name": "LayoutModel",
            "_view_count": null,
            "_view_module": "@jupyter-widgets/base",
            "_view_module_version": "1.2.0",
            "_view_name": "LayoutView",
            "align_content": null,
            "align_items": null,
            "align_self": null,
            "border": null,
            "bottom": null,
            "display": null,
            "flex": null,
            "flex_flow": null,
            "grid_area": null,
            "grid_auto_columns": null,
            "grid_auto_flow": null,
            "grid_auto_rows": null,
            "grid_column": null,
            "grid_gap": null,
            "grid_row": null,
            "grid_template_areas": null,
            "grid_template_columns": null,
            "grid_template_rows": null,
            "height": null,
            "justify_content": null,
            "justify_items": null,
            "left": null,
            "margin": null,
            "max_height": null,
            "max_width": null,
            "min_height": null,
            "min_width": null,
            "object_fit": null,
            "object_position": null,
            "order": null,
            "overflow": null,
            "overflow_x": null,
            "overflow_y": null,
            "padding": null,
            "right": null,
            "top": null,
            "visibility": null,
            "width": null
          }
        },
        "13ca479b6a634c4d9a960caa8a30abdf": {
          "model_module": "@jupyter-widgets/controls",
          "model_name": "ProgressStyleModel",
          "model_module_version": "1.5.0",
          "state": {
            "_model_module": "@jupyter-widgets/controls",
            "_model_module_version": "1.5.0",
            "_model_name": "ProgressStyleModel",
            "_view_count": null,
            "_view_module": "@jupyter-widgets/base",
            "_view_module_version": "1.2.0",
            "_view_name": "StyleView",
            "bar_color": null,
            "description_width": ""
          }
        },
        "aad9aa8910a94d68bfc0236ec456889a": {
          "model_module": "@jupyter-widgets/base",
          "model_name": "LayoutModel",
          "model_module_version": "1.2.0",
          "state": {
            "_model_module": "@jupyter-widgets/base",
            "_model_module_version": "1.2.0",
            "_model_name": "LayoutModel",
            "_view_count": null,
            "_view_module": "@jupyter-widgets/base",
            "_view_module_version": "1.2.0",
            "_view_name": "LayoutView",
            "align_content": null,
            "align_items": null,
            "align_self": null,
            "border": null,
            "bottom": null,
            "display": null,
            "flex": null,
            "flex_flow": null,
            "grid_area": null,
            "grid_auto_columns": null,
            "grid_auto_flow": null,
            "grid_auto_rows": null,
            "grid_column": null,
            "grid_gap": null,
            "grid_row": null,
            "grid_template_areas": null,
            "grid_template_columns": null,
            "grid_template_rows": null,
            "height": null,
            "justify_content": null,
            "justify_items": null,
            "left": null,
            "margin": null,
            "max_height": null,
            "max_width": null,
            "min_height": null,
            "min_width": null,
            "object_fit": null,
            "object_position": null,
            "order": null,
            "overflow": null,
            "overflow_x": null,
            "overflow_y": null,
            "padding": null,
            "right": null,
            "top": null,
            "visibility": null,
            "width": null
          }
        },
        "a40a57283d62450393b3d65d8ee54a69": {
          "model_module": "@jupyter-widgets/controls",
          "model_name": "DescriptionStyleModel",
          "model_module_version": "1.5.0",
          "state": {
            "_model_module": "@jupyter-widgets/controls",
            "_model_module_version": "1.5.0",
            "_model_name": "DescriptionStyleModel",
            "_view_count": null,
            "_view_module": "@jupyter-widgets/base",
            "_view_module_version": "1.2.0",
            "_view_name": "StyleView",
            "description_width": ""
          }
        }
      }
    }
  },
  "nbformat": 4,
  "nbformat_minor": 0
}